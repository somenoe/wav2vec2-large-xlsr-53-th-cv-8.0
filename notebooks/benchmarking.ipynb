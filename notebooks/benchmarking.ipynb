{
 "cells": [
  {
   "cell_type": "markdown",
   "id": "74c99e57",
   "metadata": {},
   "source": [
    "# Benchmarking with Our Test Split"
   ]
  },
  {
   "cell_type": "markdown",
   "id": "7e61570d",
   "metadata": {},
   "source": [
    "This notebook details how you can benchmark with our test split using any function."
   ]
  },
  {
   "cell_type": "markdown",
   "id": "2fd76f6a",
   "metadata": {},
   "source": [
    "## Installs and Imports"
   ]
  },
  {
   "cell_type": "code",
   "execution_count": 14,
   "id": "5380c478",
   "metadata": {},
   "outputs": [],
   "source": [
    "# !curl -s https://packagecloud.io/install/repositories/github/git-lfs/script.rpm.sh | sudo bash\n",
    "# !sudo yum install git-lfs -y\n",
    "# !git lfs install"
   ]
  },
  {
   "cell_type": "code",
   "execution_count": 1,
   "id": "0210fb42",
   "metadata": {},
   "outputs": [],
   "source": [
    "%%capture\n",
    "%pip install torch==1.9.0+cpu torchvision==0.10.0+cpu torchaudio==0.9.0 -f https://download.pytorch.org/whl/torch_stable.html\n",
    "# %pip install torch==1.9.0+cu111 torchvision==0.10.0+cu111 torchaudio==0.9.0 -f https://download.pytorch.org/whl/torch_stable.html\n",
    "%pip install datasets==1.11.0\n",
    "%pip install transformers==4.9.1\n",
    "%pip install jiwer\n",
    "%pip install ipywidgets\n",
    "%pip install pythainlp==2.3.1\n",
    "%pip install pydub\n",
    "%pip install SpeechRecognition\n",
    "%pip install azure-cognitiveservices-speech"
   ]
  },
  {
   "cell_type": "code",
   "execution_count": 2,
   "id": "b2c4cf87",
   "metadata": {},
   "outputs": [],
   "source": [
    "from functools import partial\n",
    "import pandas as pd\n",
    "import numpy as np\n",
    "from datasets import (\n",
    "    load_dataset, \n",
    "    load_from_disk,\n",
    "    load_metric,)\n",
    "from datasets.filesystems import S3FileSystem\n",
    "from transformers import (\n",
    "    Wav2Vec2CTCTokenizer, \n",
    "    Wav2Vec2FeatureExtractor,\n",
    "    Wav2Vec2Processor,\n",
    "    Wav2Vec2ForCTC,\n",
    "    TrainingArguments,\n",
    "    Trainer,\n",
    ")\n",
    "import torch\n",
    "import torchaudio\n",
    "import re\n",
    "import json\n",
    "from pythainlp.tokenize import word_tokenize, syllable_tokenize\n",
    "from tqdm.auto import tqdm"
   ]
  },
  {
   "cell_type": "markdown",
   "id": "8343b574",
   "metadata": {},
   "source": [
    "## Download Dataset"
   ]
  },
  {
   "cell_type": "markdown",
   "id": "f559de00",
   "metadata": {},
   "source": [
    "We download the whole Common Voice 7.0 even though we will use only our test split for benchmarking. We also copy `train_cleaned.tsv`, `dev_cleaned.tsv`, and `test_cleaned.tsv` for our cleaned and resampled splits."
   ]
  },
  {
   "cell_type": "code",
   "execution_count": 4,
   "id": "2a6cb507",
   "metadata": {},
   "outputs": [],
   "source": [
    "# !wget https://voice-prod-bundler-ee1969a6ce8178826482b88e843c335139bd3fb4.s3.amazonaws.com/cv-corpus-7.0-2021-07-21/cv-corpus-7.0-2021-07-21-th.tar.gz\n",
    "# !tar -xvf cv-corpus-7.0-2021-07-21-th.tar.gz --no-same-owner\n",
    "# !mv cv-corpus-7.0-2021-07-21-th ../data\n",
    "# !cp train_cleaned.tsv dev_cleaned.tsv test_cleaned.tsv ../data/cv-corpus-7.0-2021-07-21-th/th"
   ]
  },
  {
   "cell_type": "markdown",
   "id": "f694a85b",
   "metadata": {},
   "source": [
    "## Load Test Set"
   ]
  },
  {
   "cell_type": "code",
   "execution_count": 5,
   "id": "3041db44",
   "metadata": {},
   "outputs": [
    {
     "name": "stderr",
     "output_type": "stream",
     "text": [
      "Reusing dataset common_voice (/home/ec2-user/.cache/huggingface/datasets/common_voice/th/7.0.0/14bf435a174687b310ed94f56abf0198f6cc7efb5a5d945c22c83113eab67701)\n"
     ]
    },
    {
     "data": {
      "text/plain": [
       "Dataset({\n",
       "    features: ['path', 'sentence'],\n",
       "    num_rows: 2502\n",
       "})"
      ]
     },
     "execution_count": 5,
     "metadata": {},
     "output_type": "execute_result"
    }
   ],
   "source": [
    "test_dataset = load_dataset(\"../scripts/th_common_voice_70.py\", \"th\", split=\"test\")\n",
    "test_dataset"
   ]
  },
  {
   "cell_type": "markdown",
   "id": "f259c270",
   "metadata": {},
   "source": [
    "## Load Metrics"
   ]
  },
  {
   "cell_type": "markdown",
   "id": "7d3e6157",
   "metadata": {},
   "source": [
    "We use WER with words tokenized by PyThaiNLP 2.3.1 and CER."
   ]
  },
  {
   "cell_type": "code",
   "execution_count": 8,
   "id": "d8f60dc7",
   "metadata": {},
   "outputs": [
    {
     "data": {
      "application/vnd.jupyter.widget-view+json": {
       "model_id": "aef4bb68c4a04f57821855e087859712",
       "version_major": 2,
       "version_minor": 0
      },
      "text/plain": [
       "Downloading:   0%|          | 0.00/1.95k [00:00<?, ?B/s]"
      ]
     },
     "metadata": {},
     "output_type": "display_data"
    },
    {
     "data": {
      "application/vnd.jupyter.widget-view+json": {
       "model_id": "69c6cab6d2b84dec8a06b9fc882a84fd",
       "version_major": 2,
       "version_minor": 0
      },
      "text/plain": [
       "Downloading:   0%|          | 0.00/1.91k [00:00<?, ?B/s]"
      ]
     },
     "metadata": {},
     "output_type": "display_data"
    }
   ],
   "source": [
    "from pythainlp.tokenize import word_tokenize\n",
    "\n",
    "wer_metric = load_metric(\"wer\")\n",
    "cer_metric = load_metric(\"cer\")"
   ]
  },
  {
   "cell_type": "markdown",
   "id": "301aa2cb",
   "metadata": {},
   "source": [
    "## Preprocess"
   ]
  },
  {
   "cell_type": "code",
   "execution_count": 7,
   "id": "efe4608d",
   "metadata": {},
   "outputs": [
    {
     "name": "stderr",
     "output_type": "stream",
     "text": [
      "Loading cached processed dataset at /home/ec2-user/.cache/huggingface/datasets/common_voice/th/7.0.0/14bf435a174687b310ed94f56abf0198f6cc7efb5a5d945c22c83113eab67701/cache-b12df0a78d616663.arrow\n"
     ]
    }
   ],
   "source": [
    "def speech_file_to_array_fn(batch, \n",
    "                            text_col=\"sentence\", \n",
    "                            fname_col=\"path\",\n",
    "                            resampling_to=16000):\n",
    "    speech_array, sampling_rate = torchaudio.load(batch[fname_col])\n",
    "    resampler=torchaudio.transforms.Resample(sampling_rate, resampling_to)\n",
    "    batch[\"speech\"] = resampler(speech_array)[0].numpy()\n",
    "    batch[\"sampling_rate\"] = resampling_to\n",
    "    batch[\"target_text\"] = batch[text_col]\n",
    "    return batch\n",
    "\n",
    "test_dataset = test_dataset.map(speech_file_to_array_fn)"
   ]
  },
  {
   "cell_type": "markdown",
   "id": "354d7226",
   "metadata": {},
   "source": [
    "## Evaluate"
   ]
  },
  {
   "cell_type": "markdown",
   "id": "85b40049",
   "metadata": {},
   "source": [
    "### Convert to `.wav` for Some APIs"
   ]
  },
  {
   "cell_type": "markdown",
   "id": "3431e20d",
   "metadata": {},
   "source": [
    "We need to convert the `mp3` files to `wav`. Install `ffmpeg and ffprobe`:"
   ]
  },
  {
   "cell_type": "code",
   "execution_count": 8,
   "id": "cac7d8fb",
   "metadata": {},
   "outputs": [],
   "source": [
    "# sudo su -\n",
    "# mkdir -v -p /usr/local/bin/ffmpeg\n",
    "# cd /usr/local/bin/ffmpeg\n",
    "# wget https://johnvansickle.com/ffmpeg/releases/ffmpeg-release-i686-static.tar.xz\n",
    "# tar -v -xf ffmpeg-release-i686-static.tar.xz --strip-components=1\n",
    "# rm -v -f ffmpeg-release-i686-static.tar.xz\n",
    "# ln -snf /usr/local/bin/ffmpeg/ffmpeg /usr/bin/ffmpeg\n",
    "# ln -snf /usr/local/bin/ffmpeg/ffprobe /usr/bin/ffpropbe\n",
    "# exit"
   ]
  },
  {
   "cell_type": "code",
   "execution_count": 9,
   "id": "b80eae1d",
   "metadata": {},
   "outputs": [],
   "source": [
    "from pydub import AudioSegment\n",
    "\n",
    "def mp3_to_wav(example):\n",
    "    example['path_wav'] = (example['path'][:-3] + 'wav').replace('clips','clips_wav')\n",
    "    sound = AudioSegment.from_mp3(example['path'])\n",
    "    sound.export(example['path_wav'], format=\"wav\")\n",
    "    return example"
   ]
  },
  {
   "cell_type": "code",
   "execution_count": 10,
   "id": "3e474f30",
   "metadata": {},
   "outputs": [
    {
     "name": "stderr",
     "output_type": "stream",
     "text": [
      "Loading cached processed dataset at /home/ec2-user/.cache/huggingface/datasets/common_voice/th/7.0.0/14bf435a174687b310ed94f56abf0198f6cc7efb5a5d945c22c83113eab67701/cache-1b78b0456d5d1b4f.arrow\n"
     ]
    },
    {
     "data": {
      "text/plain": [
       "Dataset({\n",
       "    features: ['path', 'sentence', 'speech', 'sampling_rate', 'target_text', 'path_wav'],\n",
       "    num_rows: 2502\n",
       "})"
      ]
     },
     "execution_count": 10,
     "metadata": {},
     "output_type": "execute_result"
    }
   ],
   "source": [
    "test_dataset = test_dataset.map(mp3_to_wav)\n",
    "test_dataset"
   ]
  },
  {
   "cell_type": "markdown",
   "id": "4dc00840",
   "metadata": {},
   "source": [
    "### [Google Web Speech API](https://w3c.github.io/speech-api/speechapi.html)"
   ]
  },
  {
   "cell_type": "code",
   "execution_count": 118,
   "id": "e87c501a",
   "metadata": {},
   "outputs": [
    {
     "data": {
      "text/plain": [
       "'และเขาก็สัมผัสดีบุก'"
      ]
     },
     "execution_count": 118,
     "metadata": {},
     "output_type": "execute_result"
    }
   ],
   "source": [
    "import speech_recognition as sr\n",
    "\n",
    "r = sr.Recognizer()\n",
    "\n",
    "def evaluate_example(fname):\n",
    "    with sr.AudioFile(fname) as source:\n",
    "        audio_text = r.listen(source)\n",
    "    text = r.recognize_google(audio_text, language = \"th-TH\")\n",
    "    return text\n",
    "        \n",
    "evaluate_example(test_dataset[0]['path_wav'])"
   ]
  },
  {
   "cell_type": "code",
   "execution_count": null,
   "id": "ad3309c1",
   "metadata": {},
   "outputs": [
    {
     "data": {
      "application/vnd.jupyter.widget-view+json": {
       "model_id": "c3fb816b98ad403ab25c38a91af62fea",
       "version_major": 2,
       "version_minor": 0
      },
      "text/plain": [
       "  0%|          | 0/2502 [00:00<?, ?it/s]"
      ]
     },
     "metadata": {},
     "output_type": "display_data"
    }
   ],
   "source": [
    "ds = []\n",
    "for i in tqdm(test_dataset):\n",
    "    try:\n",
    "        pred = evalute_example(i['path_wav']).replace(' ','')\n",
    "    except:\n",
    "        pred = ''\n",
    "    d = {'sentence': i['sentence'].replace(' ',''), \n",
    "         'pred_sentence': pred}\n",
    "    d['sentence_tok'] = ' '.join(word_tokenize(d['sentence']))\n",
    "    d['pred_sentence_tok'] = ' '.join(word_tokenize(d['pred_sentence']))\n",
    "    ds.append(d)"
   ]
  },
  {
   "cell_type": "code",
   "execution_count": 64,
   "id": "57e52792",
   "metadata": {},
   "outputs": [
    {
     "data": {
      "text/html": [
       "<div>\n",
       "<style scoped>\n",
       "    .dataframe tbody tr th:only-of-type {\n",
       "        vertical-align: middle;\n",
       "    }\n",
       "\n",
       "    .dataframe tbody tr th {\n",
       "        vertical-align: top;\n",
       "    }\n",
       "\n",
       "    .dataframe thead th {\n",
       "        text-align: right;\n",
       "    }\n",
       "</style>\n",
       "<table border=\"1\" class=\"dataframe\">\n",
       "  <thead>\n",
       "    <tr style=\"text-align: right;\">\n",
       "      <th></th>\n",
       "      <th>sentence</th>\n",
       "      <th>pred_sentence</th>\n",
       "      <th>sentence_tok</th>\n",
       "      <th>pred_sentence_tok</th>\n",
       "    </tr>\n",
       "  </thead>\n",
       "  <tbody>\n",
       "    <tr>\n",
       "      <th>0</th>\n",
       "      <td>และเขาก็สัมผัสดีบุก</td>\n",
       "      <td>และเขาก็สัมผัสดีบุก</td>\n",
       "      <td>และ เขา ก็ สัมผัส ดีบุก</td>\n",
       "      <td>และ เขา ก็ สัมผัส ดีบุก</td>\n",
       "    </tr>\n",
       "    <tr>\n",
       "      <th>1</th>\n",
       "      <td>คุณสามารถรับทราบเมื่อข้อความนี้ถูกอ่านแล้ว</td>\n",
       "      <td>คุณสามารถรับทราบข้อความนี้ถูกอ่านแล้ว</td>\n",
       "      <td>คุณ สามารถ รับทราบ เมื่อ ข้อความ นี้ ถูก อ่าน ...</td>\n",
       "      <td>คุณ สามารถ รับทราบ ข้อความ นี้ ถูก อ่าน แล้ว</td>\n",
       "    </tr>\n",
       "    <tr>\n",
       "      <th>2</th>\n",
       "      <td>คืนนี้ฉันต้องทำให้ได้เธอพูดกับตัวเองฉันต้องทำใ...</td>\n",
       "      <td>คืนนี้ฉันต้องทำให้ได้เธอพูดกับตัวเองฉันต้องทำใ...</td>\n",
       "      <td>คืนนี้ ฉัน ต้อง ทำ ให้ได้ เธอ พูด กับ ตัวเอง ฉ...</td>\n",
       "      <td>คืนนี้ ฉัน ต้อง ทำ ให้ได้ เธอ พูด กับ ตัวเอง ฉ...</td>\n",
       "    </tr>\n",
       "    <tr>\n",
       "      <th>3</th>\n",
       "      <td>การทำเช่นนี้จะทำให้แผ่นถ่ายภาพเกิดแสงฟลูออเรสเ...</td>\n",
       "      <td>การทำเช่นนี้จะทำให้แผ่นถ่ายภาพเกิดแสงตัวartists</td>\n",
       "      <td>การ ทำ เช่นนี้ จะ ทำให้ แผ่น ถ่ายภาพ เกิด แสง ...</td>\n",
       "      <td>การ ทำ เช่นนี้ จะ ทำให้ แผ่น ถ่ายภาพ เกิด แสง ...</td>\n",
       "    </tr>\n",
       "    <tr>\n",
       "      <th>4</th>\n",
       "      <td>ผู้ปกครองของฉันไม่สนใจความเห็นนี้อย่างละเอียดอ...</td>\n",
       "      <td>ผู้ปกครองของฉันไม่สนใจความเห็นนี้อย่างละเอียดอ...</td>\n",
       "      <td>ผู้ปกครอง ของ ฉัน ไม่ สนใจ ความเห็น นี้ อย่าง ...</td>\n",
       "      <td>ผู้ปกครอง ของ ฉัน ไม่ สนใจ ความเห็น นี้ อย่าง ...</td>\n",
       "    </tr>\n",
       "    <tr>\n",
       "      <th>...</th>\n",
       "      <td>...</td>\n",
       "      <td>...</td>\n",
       "      <td>...</td>\n",
       "      <td>...</td>\n",
       "    </tr>\n",
       "    <tr>\n",
       "      <th>2497</th>\n",
       "      <td>ใครสนใจไปเรียนได้ฟรีวันละชั่วโมงสัปดาห์เดียวก็จบ</td>\n",
       "      <td>ใครสนใจจะเรียนได้ฟรีวันละชั่วโมงสัปดาห์เดียวก็จบ</td>\n",
       "      <td>ใคร สนใจ ไป เรียน ได้ ฟรี วัน ละ ชั่วโมง สัปดา...</td>\n",
       "      <td>ใคร สนใจ จะ เรียน ได้ ฟรี วัน ละ ชั่วโมง สัปดา...</td>\n",
       "    </tr>\n",
       "    <tr>\n",
       "      <th>2498</th>\n",
       "      <td>หรือในกรณีตั้งครรภ์เมื่ออายุเกิน</td>\n",
       "      <td>หรือในกรณีตั้งครรภ์เมื่ออายุเกิน</td>\n",
       "      <td>หรือ ใน กรณี ตั้งครรภ์ เมื่อ อายุ เกิน</td>\n",
       "      <td>หรือ ใน กรณี ตั้งครรภ์ เมื่อ อายุ เกิน</td>\n",
       "    </tr>\n",
       "    <tr>\n",
       "      <th>2499</th>\n",
       "      <td>ก่อนสเต็ปนั้น</td>\n",
       "      <td>ก่อนสเต็ปนั้น</td>\n",
       "      <td>ก่อน สเต็ป นั้น</td>\n",
       "      <td>ก่อน สเต็ป นั้น</td>\n",
       "    </tr>\n",
       "    <tr>\n",
       "      <th>2500</th>\n",
       "      <td>ถ้าจะแบนมันต้องชัดว่าคำพูดจะนำไปสู่เหตุการณ์พว...</td>\n",
       "      <td>ถ้าจะแบนมันต้องชัดว่าคำพูดจะนำไปสู่เหตุการณ์พว...</td>\n",
       "      <td>ถ้า จะ แบน มัน ต้อง ชัด ว่า คำพูด จะ นำไปสู่ เ...</td>\n",
       "      <td>ถ้า จะ แบน มัน ต้อง ชัด ว่า คำพูด จะ นำไปสู่ เ...</td>\n",
       "    </tr>\n",
       "    <tr>\n",
       "      <th>2501</th>\n",
       "      <td>เขาก็เปิดดังเท่ากันน่ะ</td>\n",
       "      <td>เขาก็เปิดดังเท่ากันน่ะ</td>\n",
       "      <td>เขา ก็ เปิด ดัง เท่ากัน น่ะ</td>\n",
       "      <td>เขา ก็ เปิด ดัง เท่ากัน น่ะ</td>\n",
       "    </tr>\n",
       "  </tbody>\n",
       "</table>\n",
       "<p>2502 rows × 4 columns</p>\n",
       "</div>"
      ],
      "text/plain": [
       "                                               sentence  \\\n",
       "0                                   และเขาก็สัมผัสดีบุก   \n",
       "1            คุณสามารถรับทราบเมื่อข้อความนี้ถูกอ่านแล้ว   \n",
       "2     คืนนี้ฉันต้องทำให้ได้เธอพูดกับตัวเองฉันต้องทำใ...   \n",
       "3     การทำเช่นนี้จะทำให้แผ่นถ่ายภาพเกิดแสงฟลูออเรสเ...   \n",
       "4     ผู้ปกครองของฉันไม่สนใจความเห็นนี้อย่างละเอียดอ...   \n",
       "...                                                 ...   \n",
       "2497   ใครสนใจไปเรียนได้ฟรีวันละชั่วโมงสัปดาห์เดียวก็จบ   \n",
       "2498                   หรือในกรณีตั้งครรภ์เมื่ออายุเกิน   \n",
       "2499                                      ก่อนสเต็ปนั้น   \n",
       "2500  ถ้าจะแบนมันต้องชัดว่าคำพูดจะนำไปสู่เหตุการณ์พว...   \n",
       "2501                             เขาก็เปิดดังเท่ากันน่ะ   \n",
       "\n",
       "                                          pred_sentence  \\\n",
       "0                                   และเขาก็สัมผัสดีบุก   \n",
       "1                 คุณสามารถรับทราบข้อความนี้ถูกอ่านแล้ว   \n",
       "2     คืนนี้ฉันต้องทำให้ได้เธอพูดกับตัวเองฉันต้องทำใ...   \n",
       "3       การทำเช่นนี้จะทำให้แผ่นถ่ายภาพเกิดแสงตัวartists   \n",
       "4     ผู้ปกครองของฉันไม่สนใจความเห็นนี้อย่างละเอียดอ...   \n",
       "...                                                 ...   \n",
       "2497   ใครสนใจจะเรียนได้ฟรีวันละชั่วโมงสัปดาห์เดียวก็จบ   \n",
       "2498                   หรือในกรณีตั้งครรภ์เมื่ออายุเกิน   \n",
       "2499                                      ก่อนสเต็ปนั้น   \n",
       "2500  ถ้าจะแบนมันต้องชัดว่าคำพูดจะนำไปสู่เหตุการณ์พว...   \n",
       "2501                             เขาก็เปิดดังเท่ากันน่ะ   \n",
       "\n",
       "                                           sentence_tok  \\\n",
       "0                               และ เขา ก็ สัมผัส ดีบุก   \n",
       "1     คุณ สามารถ รับทราบ เมื่อ ข้อความ นี้ ถูก อ่าน ...   \n",
       "2     คืนนี้ ฉัน ต้อง ทำ ให้ได้ เธอ พูด กับ ตัวเอง ฉ...   \n",
       "3     การ ทำ เช่นนี้ จะ ทำให้ แผ่น ถ่ายภาพ เกิด แสง ...   \n",
       "4     ผู้ปกครอง ของ ฉัน ไม่ สนใจ ความเห็น นี้ อย่าง ...   \n",
       "...                                                 ...   \n",
       "2497  ใคร สนใจ ไป เรียน ได้ ฟรี วัน ละ ชั่วโมง สัปดา...   \n",
       "2498             หรือ ใน กรณี ตั้งครรภ์ เมื่อ อายุ เกิน   \n",
       "2499                                    ก่อน สเต็ป นั้น   \n",
       "2500  ถ้า จะ แบน มัน ต้อง ชัด ว่า คำพูด จะ นำไปสู่ เ...   \n",
       "2501                        เขา ก็ เปิด ดัง เท่ากัน น่ะ   \n",
       "\n",
       "                                      pred_sentence_tok  \n",
       "0                               และ เขา ก็ สัมผัส ดีบุก  \n",
       "1          คุณ สามารถ รับทราบ ข้อความ นี้ ถูก อ่าน แล้ว  \n",
       "2     คืนนี้ ฉัน ต้อง ทำ ให้ได้ เธอ พูด กับ ตัวเอง ฉ...  \n",
       "3     การ ทำ เช่นนี้ จะ ทำให้ แผ่น ถ่ายภาพ เกิด แสง ...  \n",
       "4     ผู้ปกครอง ของ ฉัน ไม่ สนใจ ความเห็น นี้ อย่าง ...  \n",
       "...                                                 ...  \n",
       "2497  ใคร สนใจ จะ เรียน ได้ ฟรี วัน ละ ชั่วโมง สัปดา...  \n",
       "2498             หรือ ใน กรณี ตั้งครรภ์ เมื่อ อายุ เกิน  \n",
       "2499                                    ก่อน สเต็ป นั้น  \n",
       "2500  ถ้า จะ แบน มัน ต้อง ชัด ว่า คำพูด จะ นำไปสู่ เ...  \n",
       "2501                        เขา ก็ เปิด ดัง เท่ากัน น่ะ  \n",
       "\n",
       "[2502 rows x 4 columns]"
      ]
     },
     "execution_count": 64,
     "metadata": {},
     "output_type": "execute_result"
    }
   ],
   "source": [
    "# result_df = pd.DataFrame(ds)\n",
    "# result_df.to_csv('artifacts/result_google.csv',index=False)\n",
    "\n",
    "result_df = pd.read_csv('artifacts/result_google.csv').fillna('')\n",
    "result_df"
   ]
  },
  {
   "cell_type": "code",
   "execution_count": 65,
   "id": "b33137d1",
   "metadata": {},
   "outputs": [
    {
     "data": {
      "text/plain": [
       "0.1371123407540857"
      ]
     },
     "execution_count": 65,
     "metadata": {},
     "output_type": "execute_result"
    }
   ],
   "source": [
    "#wer\n",
    "wer_metric.compute(predictions=result_df.pred_sentence_tok,references=result_df.sentence_tok)"
   ]
  },
  {
   "cell_type": "code",
   "execution_count": 66,
   "id": "64620f4f",
   "metadata": {},
   "outputs": [
    {
     "data": {
      "text/plain": [
       "0.07357340720221607"
      ]
     },
     "execution_count": 66,
     "metadata": {},
     "output_type": "execute_result"
    }
   ],
   "source": [
    "#cer\n",
    "cer_metric.compute(predictions=result_df.pred_sentence,references=result_df.sentence)"
   ]
  },
  {
   "cell_type": "markdown",
   "id": "6a230654",
   "metadata": {},
   "source": [
    "### [Microsoft Bing Speech API](https://azure.microsoft.com/en-us/services/cognitive-services/speech/)"
   ]
  },
  {
   "cell_type": "code",
   "execution_count": null,
   "id": "b1d67654",
   "metadata": {},
   "outputs": [],
   "source": [
    "import azure.cognitiveservices.speech as speechsdk\n",
    "\n",
    "API_KEY = 'YOUR_API_KEY'\n",
    "REGION = 'YOUR_REGION'\n",
    "speech_config = speechsdk.SpeechConfig(subscription=API_KEY, \n",
    "                                       region=REGION)\n",
    "speech_config.speech_recognition_language = \"th-TH\"\n",
    "\n",
    "def evaluate_example(fname):\n",
    "    audio_input = speechsdk.AudioConfig(filename=fname)\n",
    "    speech_recognizer = speechsdk.SpeechRecognizer(speech_config=speech_config, audio_config=audio_input)\n",
    "    result = speech_recognizer.recognize_once_async().get()\n",
    "    return result.text\n",
    "\n",
    "evaluate_example(test_dataset[0]['path_wav'])"
   ]
  },
  {
   "cell_type": "code",
   "execution_count": null,
   "id": "9e6cebe8",
   "metadata": {},
   "outputs": [],
   "source": [
    "ds = []\n",
    "for i in tqdm(test_dataset):\n",
    "    try:\n",
    "        pred = evaluate_example(i['path_wav']).replace(' ','')\n",
    "    except:\n",
    "        pred = ''\n",
    "    d = {'sentence': i['sentence'].replace(' ',''), \n",
    "         'pred_sentence': pred}\n",
    "    d['sentence_tok'] = ' '.join(word_tokenize(d['sentence']))\n",
    "    d['pred_sentence_tok'] = ' '.join(word_tokenize(d['pred_sentence']))\n",
    "    ds.append(d)"
   ]
  },
  {
   "cell_type": "code",
   "execution_count": 11,
   "id": "fcaa0adb",
   "metadata": {},
   "outputs": [
    {
     "data": {
      "text/html": [
       "<div>\n",
       "<style scoped>\n",
       "    .dataframe tbody tr th:only-of-type {\n",
       "        vertical-align: middle;\n",
       "    }\n",
       "\n",
       "    .dataframe tbody tr th {\n",
       "        vertical-align: top;\n",
       "    }\n",
       "\n",
       "    .dataframe thead th {\n",
       "        text-align: right;\n",
       "    }\n",
       "</style>\n",
       "<table border=\"1\" class=\"dataframe\">\n",
       "  <thead>\n",
       "    <tr style=\"text-align: right;\">\n",
       "      <th></th>\n",
       "      <th>sentence</th>\n",
       "      <th>pred_sentence</th>\n",
       "      <th>sentence_tok</th>\n",
       "      <th>pred_sentence_tok</th>\n",
       "    </tr>\n",
       "  </thead>\n",
       "  <tbody>\n",
       "    <tr>\n",
       "      <th>0</th>\n",
       "      <td>และเขาก็สัมผัสดีบุก</td>\n",
       "      <td>และเขาก็สัมผัสดีบุ๊ค</td>\n",
       "      <td>และ เขา ก็ สัมผัส ดีบุก</td>\n",
       "      <td>และ เขา ก็ สัมผัส ดี บุ๊ค</td>\n",
       "    </tr>\n",
       "    <tr>\n",
       "      <th>1</th>\n",
       "      <td>คุณสามารถรับทราบเมื่อข้อความนี้ถูกอ่านแล้ว</td>\n",
       "      <td>คุณสามารถรับทราบเมื่อข้อความนี้ถูกอ่านแล้ว</td>\n",
       "      <td>คุณ สามารถ รับทราบ เมื่อ ข้อความ นี้ ถูก อ่าน ...</td>\n",
       "      <td>คุณ สามารถ รับทราบ เมื่อ ข้อความ นี้ ถูก อ่าน ...</td>\n",
       "    </tr>\n",
       "    <tr>\n",
       "      <th>2</th>\n",
       "      <td>คืนนี้ฉันต้องทำให้ได้เธอพูดกับตัวเองฉันต้องทำใ...</td>\n",
       "      <td>คืนนี้ฉันต้องทำให้ได้เธอพูดกับตัวเองฉันต้องทำใ...</td>\n",
       "      <td>คืนนี้ ฉัน ต้อง ทำ ให้ได้ เธอ พูด กับ ตัวเอง ฉ...</td>\n",
       "      <td>คืนนี้ ฉัน ต้อง ทำ ให้ได้ เธอ พูด กับ ตัวเอง ฉ...</td>\n",
       "    </tr>\n",
       "    <tr>\n",
       "      <th>3</th>\n",
       "      <td>การทำเช่นนี้จะทำให้แผ่นถ่ายภาพเกิดแสงฟลูออเรสเ...</td>\n",
       "      <td>การทำเช่นนี้จะทำให้แผ่นถ่ายภาพเกิดแสงตัวริมเส้น</td>\n",
       "      <td>การ ทำ เช่นนี้ จะ ทำให้ แผ่น ถ่ายภาพ เกิด แสง ...</td>\n",
       "      <td>การ ทำ เช่นนี้ จะ ทำให้ แผ่น ถ่ายภาพ เกิด แสง ...</td>\n",
       "    </tr>\n",
       "    <tr>\n",
       "      <th>4</th>\n",
       "      <td>ผู้ปกครองของฉันไม่สนใจความเห็นนี้อย่างละเอียดอ...</td>\n",
       "      <td>ผู้ปกครองของฉันไม่สนใจความเห็นนี้อย่างละเอียดอ...</td>\n",
       "      <td>ผู้ปกครอง ของ ฉัน ไม่ สนใจ ความเห็น นี้ อย่าง ...</td>\n",
       "      <td>ผู้ปกครอง ของ ฉัน ไม่ สนใจ ความเห็น นี้ อย่าง ...</td>\n",
       "    </tr>\n",
       "    <tr>\n",
       "      <th>...</th>\n",
       "      <td>...</td>\n",
       "      <td>...</td>\n",
       "      <td>...</td>\n",
       "      <td>...</td>\n",
       "    </tr>\n",
       "    <tr>\n",
       "      <th>2497</th>\n",
       "      <td>ใครสนใจไปเรียนได้ฟรีวันละชั่วโมงสัปดาห์เดียวก็จบ</td>\n",
       "      <td>ใครสนใจไปเรียนได้ฟรีวันละชั่วโมงสัปดาห์เดียวก็จบ</td>\n",
       "      <td>ใคร สนใจ ไป เรียน ได้ ฟรี วัน ละ ชั่วโมง สัปดา...</td>\n",
       "      <td>ใคร สนใจ ไป เรียน ได้ ฟรี วัน ละ ชั่วโมง สัปดา...</td>\n",
       "    </tr>\n",
       "    <tr>\n",
       "      <th>2498</th>\n",
       "      <td>หรือในกรณีตั้งครรภ์เมื่ออายุเกิน</td>\n",
       "      <td>หรือในกรณีตั้งครรภ์เมื่ออายุเกิน</td>\n",
       "      <td>หรือ ใน กรณี ตั้งครรภ์ เมื่อ อายุ เกิน</td>\n",
       "      <td>หรือ ใน กรณี ตั้งครรภ์ เมื่อ อายุ เกิน</td>\n",
       "    </tr>\n",
       "    <tr>\n",
       "      <th>2499</th>\n",
       "      <td>ก่อนสเต็ปนั้น</td>\n",
       "      <td>ก่อนสเต็ปนั้น</td>\n",
       "      <td>ก่อน สเต็ป นั้น</td>\n",
       "      <td>ก่อน สเต็ป นั้น</td>\n",
       "    </tr>\n",
       "    <tr>\n",
       "      <th>2500</th>\n",
       "      <td>ถ้าจะแบนมันต้องชัดว่าคำพูดจะนำไปสู่เหตุการณ์พว...</td>\n",
       "      <td>ถ้าจะแบนมันต้องชัดว่าคำพูดจะนำไปสู่เหตุการณ์พว...</td>\n",
       "      <td>ถ้า จะ แบน มัน ต้อง ชัด ว่า คำพูด จะ นำไปสู่ เ...</td>\n",
       "      <td>ถ้า จะ แบน มัน ต้อง ชัด ว่า คำพูด จะ นำไปสู่ เ...</td>\n",
       "    </tr>\n",
       "    <tr>\n",
       "      <th>2501</th>\n",
       "      <td>เขาก็เปิดดังเท่ากันน่ะ</td>\n",
       "      <td>เขาก็เปิดดังเท่ากันนะ</td>\n",
       "      <td>เขา ก็ เปิด ดัง เท่ากัน น่ะ</td>\n",
       "      <td>เขา ก็ เปิด ดัง เท่ากัน นะ</td>\n",
       "    </tr>\n",
       "  </tbody>\n",
       "</table>\n",
       "<p>2502 rows × 4 columns</p>\n",
       "</div>"
      ],
      "text/plain": [
       "                                               sentence  \\\n",
       "0                                   และเขาก็สัมผัสดีบุก   \n",
       "1            คุณสามารถรับทราบเมื่อข้อความนี้ถูกอ่านแล้ว   \n",
       "2     คืนนี้ฉันต้องทำให้ได้เธอพูดกับตัวเองฉันต้องทำใ...   \n",
       "3     การทำเช่นนี้จะทำให้แผ่นถ่ายภาพเกิดแสงฟลูออเรสเ...   \n",
       "4     ผู้ปกครองของฉันไม่สนใจความเห็นนี้อย่างละเอียดอ...   \n",
       "...                                                 ...   \n",
       "2497   ใครสนใจไปเรียนได้ฟรีวันละชั่วโมงสัปดาห์เดียวก็จบ   \n",
       "2498                   หรือในกรณีตั้งครรภ์เมื่ออายุเกิน   \n",
       "2499                                      ก่อนสเต็ปนั้น   \n",
       "2500  ถ้าจะแบนมันต้องชัดว่าคำพูดจะนำไปสู่เหตุการณ์พว...   \n",
       "2501                             เขาก็เปิดดังเท่ากันน่ะ   \n",
       "\n",
       "                                          pred_sentence  \\\n",
       "0                                  และเขาก็สัมผัสดีบุ๊ค   \n",
       "1            คุณสามารถรับทราบเมื่อข้อความนี้ถูกอ่านแล้ว   \n",
       "2     คืนนี้ฉันต้องทำให้ได้เธอพูดกับตัวเองฉันต้องทำใ...   \n",
       "3       การทำเช่นนี้จะทำให้แผ่นถ่ายภาพเกิดแสงตัวริมเส้น   \n",
       "4     ผู้ปกครองของฉันไม่สนใจความเห็นนี้อย่างละเอียดอ...   \n",
       "...                                                 ...   \n",
       "2497   ใครสนใจไปเรียนได้ฟรีวันละชั่วโมงสัปดาห์เดียวก็จบ   \n",
       "2498                   หรือในกรณีตั้งครรภ์เมื่ออายุเกิน   \n",
       "2499                                      ก่อนสเต็ปนั้น   \n",
       "2500  ถ้าจะแบนมันต้องชัดว่าคำพูดจะนำไปสู่เหตุการณ์พว...   \n",
       "2501                              เขาก็เปิดดังเท่ากันนะ   \n",
       "\n",
       "                                           sentence_tok  \\\n",
       "0                               และ เขา ก็ สัมผัส ดีบุก   \n",
       "1     คุณ สามารถ รับทราบ เมื่อ ข้อความ นี้ ถูก อ่าน ...   \n",
       "2     คืนนี้ ฉัน ต้อง ทำ ให้ได้ เธอ พูด กับ ตัวเอง ฉ...   \n",
       "3     การ ทำ เช่นนี้ จะ ทำให้ แผ่น ถ่ายภาพ เกิด แสง ...   \n",
       "4     ผู้ปกครอง ของ ฉัน ไม่ สนใจ ความเห็น นี้ อย่าง ...   \n",
       "...                                                 ...   \n",
       "2497  ใคร สนใจ ไป เรียน ได้ ฟรี วัน ละ ชั่วโมง สัปดา...   \n",
       "2498             หรือ ใน กรณี ตั้งครรภ์ เมื่อ อายุ เกิน   \n",
       "2499                                    ก่อน สเต็ป นั้น   \n",
       "2500  ถ้า จะ แบน มัน ต้อง ชัด ว่า คำพูด จะ นำไปสู่ เ...   \n",
       "2501                        เขา ก็ เปิด ดัง เท่ากัน น่ะ   \n",
       "\n",
       "                                      pred_sentence_tok  \n",
       "0                             และ เขา ก็ สัมผัส ดี บุ๊ค  \n",
       "1     คุณ สามารถ รับทราบ เมื่อ ข้อความ นี้ ถูก อ่าน ...  \n",
       "2     คืนนี้ ฉัน ต้อง ทำ ให้ได้ เธอ พูด กับ ตัวเอง ฉ...  \n",
       "3     การ ทำ เช่นนี้ จะ ทำให้ แผ่น ถ่ายภาพ เกิด แสง ...  \n",
       "4     ผู้ปกครอง ของ ฉัน ไม่ สนใจ ความเห็น นี้ อย่าง ...  \n",
       "...                                                 ...  \n",
       "2497  ใคร สนใจ ไป เรียน ได้ ฟรี วัน ละ ชั่วโมง สัปดา...  \n",
       "2498             หรือ ใน กรณี ตั้งครรภ์ เมื่อ อายุ เกิน  \n",
       "2499                                    ก่อน สเต็ป นั้น  \n",
       "2500  ถ้า จะ แบน มัน ต้อง ชัด ว่า คำพูด จะ นำไปสู่ เ...  \n",
       "2501                         เขา ก็ เปิด ดัง เท่ากัน นะ  \n",
       "\n",
       "[2502 rows x 4 columns]"
      ]
     },
     "execution_count": 11,
     "metadata": {},
     "output_type": "execute_result"
    }
   ],
   "source": [
    "# result_df = pd.DataFrame(ds)\n",
    "# result_df.to_csv('artifacts/result_bing.csv',index=False)\n",
    "\n",
    "result_df = pd.read_csv('artifacts/result_bing.csv').fillna('')\n",
    "result_df"
   ]
  },
  {
   "cell_type": "code",
   "execution_count": 12,
   "id": "6a7102d6",
   "metadata": {},
   "outputs": [
    {
     "data": {
      "text/plain": [
       "0.12578818684853943"
      ]
     },
     "execution_count": 12,
     "metadata": {},
     "output_type": "execute_result"
    }
   ],
   "source": [
    "#wer\n",
    "wer_metric.compute(predictions=result_df.pred_sentence_tok,references=result_df.sentence_tok)"
   ]
  },
  {
   "cell_type": "code",
   "execution_count": 13,
   "id": "c35d9ad8",
   "metadata": {},
   "outputs": [
    {
     "data": {
      "text/plain": [
       "0.050166204986149585"
      ]
     },
     "execution_count": 13,
     "metadata": {},
     "output_type": "execute_result"
    }
   ],
   "source": [
    "#cer\n",
    "cer_metric.compute(predictions=result_df.pred_sentence,references=result_df.sentence)"
   ]
  },
  {
   "cell_type": "markdown",
   "id": "41380205",
   "metadata": {},
   "source": [
    "## [AWS Transcribe](https://aws.amazon.com/transcribe/)"
   ]
  },
  {
   "cell_type": "code",
   "execution_count": null,
   "id": "6522eb1d",
   "metadata": {},
   "outputs": [],
   "source": [
    "import time\n",
    "import boto3\n",
    "\n",
    "s3 = boto3.resource(\"s3\")\n",
    "s3_bucket = s3.Bucket(\"cv-test-unique\")\n",
    "prefix = \"th/clips_wav\"\n",
    "clips = [f.key.split('/')[-1] for f in s3_bucket.objects.filter(Prefix=prefix).all()]\n",
    "clips = [i for i in clips if i[-3:]=='wav']\n",
    "len(clips)"
   ]
  },
  {
   "cell_type": "code",
   "execution_count": null,
   "id": "3f475ee1",
   "metadata": {},
   "outputs": [],
   "source": [
    "ds = []\n",
    "\n",
    "for i in tqdm(range(len(clips)//bs+1)):\n",
    "    sub_clips = clips[i*bs:(i+1)*bs]\n",
    "    for job_name in sub_clips:\n",
    "        job_uri = f's3://cv-test-unique/{prefix}/{job_name}'\n",
    "        transcribe.start_transcription_job(\n",
    "            TranscriptionJobName=job_name,\n",
    "            Media={'MediaFileUri': job_uri},\n",
    "            MediaFormat='wav',\n",
    "            LanguageCode='th-TH'\n",
    "        )\n",
    "\n",
    "    while True:\n",
    "        dones = []\n",
    "        for job_name in sub_clips:\n",
    "            status = transcribe.get_transcription_job(TranscriptionJobName=job_name)\n",
    "            dones.append(status['TranscriptionJob']['TranscriptionJobStatus'] in ['COMPLETED', 'FAILED'])\n",
    "        if np.mean(dones)==1:\n",
    "            print('Batch done')\n",
    "            break\n",
    "        print(f\"{sum(dones)} out of {len(dones)} done for batch {i}\")\n",
    "        time.sleep(5)\n",
    "\n",
    "\n",
    "    for job_name in sub_clips:\n",
    "        status = transcribe.get_transcription_job(TranscriptionJobName=job_name)\n",
    "        try:\n",
    "            data = pd.read_json(status['TranscriptionJob']['Transcript']['TranscriptFileUri'])\n",
    "            pred_text = data['results'][1][0]['transcript']\n",
    "        except:\n",
    "            pred_text = ''\n",
    "        ds.append((job_name, ''.join(pred_text.split())))\n",
    "\n",
    "    df = pd.DataFrame(ds)\n",
    "    df.columns = ['fname','pred_sentence']\n",
    "    df.to_csv(f'result_aws_{i}.csv',index=False)"
   ]
  },
  {
   "cell_type": "code",
   "execution_count": null,
   "id": "21764efd",
   "metadata": {},
   "outputs": [],
   "source": [
    "# ground_truth = pd.DataFrame(test_dataset)\n",
    "# ground_truth['fname'] = ground_truth.path.map(lambda x: x.split('/')[-1])\n",
    "# df['fname'] = df['fname'].map(lambda x: x.replace('.wav','.mp3'))\n",
    "# result_df = ground_truth.merge(df,on='fname')\n",
    "# result_df = result_df.drop(['fname','path'],1)\n",
    "# result_df['pred_sentence'] = result_df['pred_sentence'].map(lambda x: x.replace('.','').replace(' ',''))\n",
    "# result_df['sentence'] = result_df['sentence'].map(lambda x: x.replace(' ',''))\n",
    "# result_df['sentence_tok'] = result_df.sentence.map(lambda x: ' '.join(word_tokenize(x)))\n",
    "# result_df['pred_sentence_tok'] = result_df.pred_sentence.map(lambda x: ' '.join(word_tokenize(x)))\n",
    "# result_df.to_csv('result_aws.csv',index=False)"
   ]
  },
  {
   "cell_type": "code",
   "execution_count": 11,
   "id": "6ad328fe",
   "metadata": {},
   "outputs": [],
   "source": [
    "result_df = pd.read_csv('artifacts/result_aws.csv').fillna('')"
   ]
  },
  {
   "cell_type": "code",
   "execution_count": 12,
   "id": "f218ab03",
   "metadata": {},
   "outputs": [
    {
     "data": {
      "text/plain": [
       "0.21863338051730793"
      ]
     },
     "execution_count": 12,
     "metadata": {},
     "output_type": "execute_result"
    }
   ],
   "source": [
    "#wer\n",
    "wer_metric.compute(predictions=result_df.pred_sentence_tok,references=result_df.sentence_tok)"
   ]
  },
  {
   "cell_type": "code",
   "execution_count": 13,
   "id": "5153206d",
   "metadata": {},
   "outputs": [
    {
     "data": {
      "text/plain": [
       "0.07077562326869806"
      ]
     },
     "execution_count": 13,
     "metadata": {},
     "output_type": "execute_result"
    }
   ],
   "source": [
    "#cer\n",
    "cer_metric.compute(predictions=result_df.pred_sentence,references=result_df.sentence)"
   ]
  },
  {
   "cell_type": "markdown",
   "id": "b4d0dcc5",
   "metadata": {},
   "source": [
    "### [NECTEC AI for Thai Partii API](https://aiforthai.in.th/aiplatform/#/speechtotext)"
   ]
  },
  {
   "cell_type": "markdown",
   "id": "435eb439",
   "metadata": {},
   "source": [
    "At the time of testing (September 1, 2021), we were not able to call the Partii API with instructions in [AI for Thai webiste](https://aiforthai.in.th/aiplatform/#/speechtotext) as well as by uploading `.wav` files to [the demo](https://aiforthai.in.th/service_st.php)."
   ]
  },
  {
   "cell_type": "code",
   "execution_count": 119,
   "id": "769ab62d",
   "metadata": {},
   "outputs": [
    {
     "name": "stdout",
     "output_type": "stream",
     "text": [
      "Result = {\"status\":\"False\",\"message\":\"No asr result\",\"inputfilename\":\"\",\"outputfilename\":\"\"}\n"
     ]
    }
   ],
   "source": [
    "import requests\n",
    " \n",
    "url = \"https://api.aiforthai.in.th/partii-webapi\"\n",
    " \n",
    "fname = test_dataset[0]['path_wav']\n",
    "files = {'wavfile': (fname, open(fname, 'rb'), 'audio/wav')}\n",
    "\n",
    "API_KEY = 'YOUR_API_KEY'\n",
    " \n",
    "headers = {\n",
    "    'Apikey': API_KEY,\n",
    "    'Cache-Control': \"no-cache\",\n",
    "    'Connection': \"keep-alive\",\n",
    "    }\n",
    " \n",
    "param = {\"outputlevel\":\"--uttlevel\",\"outputformat\":\"--txt\"}\n",
    " \n",
    "response = requests.request(\"POST\", url, headers=headers, files=files, data=param)\n",
    " \n",
    "print(\"Result = \" + response.text)"
   ]
  },
  {
   "cell_type": "code",
   "execution_count": 121,
   "id": "1f2569ce",
   "metadata": {},
   "outputs": [
    {
     "data": {
      "text/plain": [
       "{'wavfile': ('../data/cv-corpus-7.0-2021-07-21/th/clips_wav/common_voice_th_25656242.wav',\n",
       "  <_io.BufferedReader name='../data/cv-corpus-7.0-2021-07-21/th/clips_wav/common_voice_th_25656242.wav'>,\n",
       "  'audio/wav')}"
      ]
     },
     "execution_count": 121,
     "metadata": {},
     "output_type": "execute_result"
    }
   ],
   "source": [
    "files"
   ]
  },
  {
   "cell_type": "markdown",
   "id": "5921804b",
   "metadata": {},
   "source": [
    "### `wav2vec2` Models from HuggingFace"
   ]
  },
  {
   "cell_type": "code",
   "execution_count": 19,
   "id": "52fa4c75",
   "metadata": {},
   "outputs": [
    {
     "name": "stderr",
     "output_type": "stream",
     "text": [
      "Special tokens have been added in the vocabulary, make sure the associated word embeddings are fine-tuned or trained.\n"
     ]
    }
   ],
   "source": [
    "processor = Wav2Vec2Processor.from_pretrained(\"airesearch/wav2vec2-large-xlsr-53-th\")\n",
    "model = Wav2Vec2ForCTC.from_pretrained(\"airesearch/wav2vec2-large-xlsr-53-th\")\n",
    "\n",
    "def evaluate(batch):\n",
    "    device = \"cuda\" if torch.cuda.is_available() else \"cpu\"\n",
    "    inputs = processor(batch[\"speech\"], sampling_rate=16_000, return_tensors=\"pt\", padding=True)\n",
    "\n",
    "    with torch.no_grad():\n",
    "        logits = model(inputs.input_values.to(device),).logits\n",
    "\n",
    "    pred_ids = torch.argmax(logits, dim=-1)\n",
    "    batch[\"pred_sentence\"] = processor.batch_decode(pred_ids)\n",
    "    return batch"
   ]
  },
  {
   "cell_type": "code",
   "execution_count": 25,
   "id": "cf6c969a",
   "metadata": {},
   "outputs": [],
   "source": [
    "#takes quite a long time on CPU\n",
    "result = test_dataset.map(evaluate, batched=True, batch_size=8)\n",
    "result_df = pd.DataFrame({'sentence':result['sentence'], 'pred_sentence_tok': result['pred_sentence']})\n",
    "result_df['sentence_tok'] = result_df.sentence.map(lambda x: ' '.join(word_tokenize(x)))\n",
    "result_df['pred_sentence'] = result_df.pred_sentence_tok.map(lambda x: ''.join(x.split()))\n",
    "result_df"
   ]
  },
  {
   "cell_type": "code",
   "execution_count": 16,
   "id": "8c9ea51b",
   "metadata": {},
   "outputs": [],
   "source": [
    "#load our results\n",
    "result_df = pd.read_csv('artifacts/result_cv70.csv')"
   ]
  },
  {
   "cell_type": "code",
   "execution_count": 17,
   "id": "3b983003",
   "metadata": {},
   "outputs": [
    {
     "data": {
      "text/plain": [
       "0.13634023935143483"
      ]
     },
     "execution_count": 17,
     "metadata": {},
     "output_type": "execute_result"
    }
   ],
   "source": [
    "#wer\n",
    "wer_metric.compute(predictions=result_df.pred_sentence_tok,references=result_df.sentence_tok)"
   ]
  },
  {
   "cell_type": "code",
   "execution_count": 18,
   "id": "cd1fc07c",
   "metadata": {},
   "outputs": [
    {
     "data": {
      "text/plain": [
       "0.028130193905817176"
      ]
     },
     "execution_count": 18,
     "metadata": {},
     "output_type": "execute_result"
    }
   ],
   "source": [
    "#cer\n",
    "cer_metric.compute(predictions=result_df.pred_sentence,references=result_df.sentence)"
   ]
  }
 ],
 "metadata": {
  "kernelspec": {
   "display_name": "conda_amazonei_pytorch_latest_p36",
   "language": "python",
   "name": "conda_amazonei_pytorch_latest_p36"
  },
  "language_info": {
   "codemirror_mode": {
    "name": "ipython",
    "version": 3
   },
   "file_extension": ".py",
   "mimetype": "text/x-python",
   "name": "python",
   "nbconvert_exporter": "python",
   "pygments_lexer": "ipython3",
   "version": "3.6.13"
  }
 },
 "nbformat": 4,
 "nbformat_minor": 5
}
