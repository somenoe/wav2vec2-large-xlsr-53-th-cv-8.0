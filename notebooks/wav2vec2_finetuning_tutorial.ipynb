{
 "cells": [
  {
   "cell_type": "markdown",
   "metadata": {},
   "source": [
    "# Finetune `wav2vec2` for Thai"
   ]
  },
  {
   "cell_type": "markdown",
   "metadata": {},
   "source": [
    "This notebook is adapted from [Fine-tuning Wav2Vec2 for English ASR](https://colab.research.google.com/github/patrickvonplaten/notebooks/blob/master/Fine_tuning_Wav2Vec2_for_English_ASR.ipynb) to train Thai ASR using [Common Voice Corpus 7.0](https://commonvoice.mozilla.org/en/datasets)."
   ]
  },
  {
   "cell_type": "markdown",
   "metadata": {},
   "source": [
    "## What is `wav2vec2`"
   ]
  },
  {
   "cell_type": "markdown",
   "metadata": {},
   "source": [
    "Wav2Vec2 is a pretrained model for Automatic Speech Recognition (ASR) and was released in [September 2020](https://ai.facebook.com/blog/wav2vec-20-learning-the-structure-of-speech-from-raw-audio/) by Alexei Baevski, Michael Auli, and Alex Conneau.\n",
    "\n",
    "Using a novel contrastive pretraining objective, Wav2Vec2 learns powerful speech representations from more than 50.000 hours of unlabeled speech. Similar, to [BERT's masked language modeling](http://jalammar.github.io/illustrated-bert/), the model learns contextualized speech representations by randomly masking feature vectors before passing them to a transformer network.\n",
    "\n",
    "![wav2vec2_structure](https://raw.githubusercontent.com/patrickvonplaten/scientific_images/master/wav2vec2.png)\n",
    "\n",
    "For the first time, it has been shown that pretraining, followed by fine-tuning on very little labeled speech data achieves competitive results to state-of-the-art ASR systems. Using as little as 10 minutes of labeled data, Wav2Vec2 yields a word error rate (WER) of less than 5% on the clean test set of [LibriSpeech](https://huggingface.co/datasets/librispeech_asr) - *cf.* with Table 9 of the [paper](https://arxiv.org/pdf/2006.11477.pdf)."
   ]
  },
  {
   "cell_type": "markdown",
   "metadata": {},
   "source": [
    "## Installs and Imports"
   ]
  },
  {
   "cell_type": "markdown",
   "metadata": {},
   "source": [
    "We use SageMaker Studio `Python 3 (Data Science)` image as base."
   ]
  },
  {
   "cell_type": "code",
   "execution_count": 110,
   "metadata": {},
   "outputs": [],
   "source": [
    "# !curl -s https://packagecloud.io/install/repositories/github/git-lfs/script.rpm.sh | sudo bash\n",
    "# !sudo yum install git-lfs -y\n",
    "# !git lfs install\n"
   ]
  },
  {
   "cell_type": "code",
   "execution_count": 111,
   "metadata": {},
   "outputs": [
    {
     "name": "stderr",
     "output_type": "stream",
     "text": [
      "UsageError: Line magic function `%` not found.\n"
     ]
    }
   ],
   "source": [
    "% % capture\n",
    "!apt-get update\n",
    "!apt-get install - -reinstall build-essential - -yes\n"
   ]
  },
  {
   "cell_type": "code",
   "execution_count": 112,
   "metadata": {},
   "outputs": [
    {
     "name": "stderr",
     "output_type": "stream",
     "text": [
      "UsageError: Line magic function `%` not found.\n"
     ]
    }
   ],
   "source": [
    "% % capture\n",
    "%pip install torch == 1.9.0+cpu torchvision == 0.10.0+cpu torchaudio == 0.10.0 - f https: // download.pytorch.org/whl/torch_stable.html\n",
    "# ? IF Using GPU install torch+cu111\n",
    "%pip install torch == 1.9.0+cu111 torchvision == 0.10.0+cu111 torchaudio == 0.10.0 - f https: // download.pytorch.org/whl/torch_stable.html\n",
    "%pip install datasets == 1.11.0\n",
    "%pip install transformers == 4.9.1\n",
    "%pip install jiwer\n",
    "%pip install ipywidgets\n",
    "%pip install pythainlp == 2.3.1\n"
   ]
  },
  {
   "cell_type": "code",
   "execution_count": 113,
   "metadata": {},
   "outputs": [],
   "source": [
    "from functools import partial\n",
    "import pandas as pd\n",
    "import numpy as np\n",
    "from datasets import (\n",
    "    load_dataset,\n",
    "    load_from_disk,\n",
    "    load_metric,)\n",
    "# from datasets.filesystems import S3FileSystem\n",
    "from transformers import (\n",
    "    Wav2Vec2CTCTokenizer,\n",
    "    Wav2Vec2FeatureExtractor,\n",
    "    Wav2Vec2Processor,\n",
    "    Wav2Vec2ForCTC,\n",
    "    TrainingArguments,\n",
    "    Trainer,\n",
    ")\n",
    "import torchaudio\n",
    "import re\n",
    "import json\n",
    "from pythainlp.tokenize import word_tokenize, syllable_tokenize\n"
   ]
  },
  {
   "cell_type": "code",
   "execution_count": 114,
   "metadata": {},
   "outputs": [],
   "source": [
    "!df - h\n"
   ]
  },
  {
   "cell_type": "markdown",
   "metadata": {},
   "source": [
    "## Data Preparation"
   ]
  },
  {
   "cell_type": "markdown",
   "metadata": {},
   "source": [
    "### Download"
   ]
  },
  {
   "cell_type": "markdown",
   "metadata": {},
   "source": [
    "Download and extract to `data/cv-corpus-8.0-2022-01-19-th/th`"
   ]
  },
  {
   "cell_type": "code",
   "execution_count": 115,
   "metadata": {},
   "outputs": [],
   "source": [
    "# !wget https://voice-prod-bundler-ee1969a6ce8178826482b88e843c335139bd3fb4.s3.amazonaws.com/cv-corpus-8.0-2022-01-19/cv-corpus-8.0-2022-01-19-th.tar.gz\n",
    "# !tar -xvf cv-corpus-8.0-2022-01-19-th.tar.gz --no-same-owner\n"
   ]
  },
  {
   "cell_type": "markdown",
   "metadata": {},
   "source": [
    "### Clean"
   ]
  },
  {
   "cell_type": "markdown",
   "metadata": {},
   "source": [
    "Clean the datasets as described in `cv-preprocess.ipynb` by [@tann9949](https://github.com/tann9949)."
   ]
  },
  {
   "cell_type": "markdown",
   "metadata": {},
   "source": [
    "### Load Dataset"
   ]
  },
  {
   "cell_type": "markdown",
   "metadata": {},
   "source": [
    "We use the [Common Voice Corpus 7.0](https://commonvoice.mozilla.org/en/datasets) which contains 133 validated hours of Thai (255 total hours) at 5GB. We pre-tokenize with `pythainlp.tokenize.word_tokenize`."
   ]
  },
  {
   "cell_type": "code",
   "execution_count": 116,
   "metadata": {},
   "outputs": [
    {
     "name": "stderr",
     "output_type": "stream",
     "text": [
      "Reusing dataset common_voice (D:\\.cache\\huggingface\\datasets\\common_voice\\th\\8.0.0\\11eff7c774afad25f7807c85c6dcf58176c30f1e43956129ba4a2e4b38ab05d9)\n",
      "100%|██████████| 3/3 [00:00<00:00, 15.21it/s]\n"
     ]
    },
    {
     "data": {
      "text/plain": [
       "DatasetDict({\n",
       "    train: Dataset({\n",
       "        features: ['path', 'sentence'],\n",
       "        num_rows: 98406\n",
       "    })\n",
       "    test: Dataset({\n",
       "        features: ['path', 'sentence'],\n",
       "        num_rows: 10759\n",
       "    })\n",
       "    validation: Dataset({\n",
       "        features: ['path', 'sentence'],\n",
       "        num_rows: 10766\n",
       "    })\n",
       "})"
      ]
     },
     "execution_count": 116,
     "metadata": {},
     "output_type": "execute_result"
    }
   ],
   "source": [
    "datasets = load_dataset(\"../scripts/th_common_voice_80.py\", \"th\")\n",
    "datasets\n"
   ]
  },
  {
   "cell_type": "code",
   "execution_count": 117,
   "metadata": {},
   "outputs": [
    {
     "name": "stderr",
     "output_type": "stream",
     "text": [
      "Loading cached processed dataset at D:\\.cache\\huggingface\\datasets\\common_voice\\th\\8.0.0\\11eff7c774afad25f7807c85c6dcf58176c30f1e43956129ba4a2e4b38ab05d9\\cache-11b37ea2ebbd7815.arrow\n",
      "Loading cached processed dataset at D:\\.cache\\huggingface\\datasets\\common_voice\\th\\8.0.0\\11eff7c774afad25f7807c85c6dcf58176c30f1e43956129ba4a2e4b38ab05d9\\cache-d7d6bb13a599d1a0.arrow\n",
      "Loading cached processed dataset at D:\\.cache\\huggingface\\datasets\\common_voice\\th\\8.0.0\\11eff7c774afad25f7807c85c6dcf58176c30f1e43956129ba4a2e4b38ab05d9\\cache-5a399c6e694e9da4.arrow\n"
     ]
    }
   ],
   "source": [
    "def preprocess_data(example, tok_func=word_tokenize):\n",
    "    example['sentence'] = ' '.join(tok_func(example['sentence']))\n",
    "    return example\n",
    "\n",
    "\n",
    "datasets = datasets.map(preprocess_data)\n"
   ]
  },
  {
   "cell_type": "markdown",
   "metadata": {},
   "source": [
    "### Exploration"
   ]
  },
  {
   "cell_type": "markdown",
   "metadata": {},
   "source": [
    "#### `sentence`; transcripts"
   ]
  },
  {
   "cell_type": "code",
   "execution_count": 137,
   "metadata": {},
   "outputs": [
    {
     "data": {
      "text/html": [
       "<table border=\"1\" class=\"dataframe\">\n",
       "  <thead>\n",
       "    <tr style=\"text-align: right;\">\n",
       "      <th></th>\n",
       "      <th>sentence</th>\n",
       "    </tr>\n",
       "  </thead>\n",
       "  <tbody>\n",
       "    <tr>\n",
       "      <th>0</th>\n",
       "      <td>ศักยภาพ ของ สถาบันการศึกษา แต่ละ แห่ง</td>\n",
       "    </tr>\n",
       "    <tr>\n",
       "      <th>1</th>\n",
       "      <td>ฉัน เชื่อ คุณ ที่ ทำให้ สนุก</td>\n",
       "    </tr>\n",
       "    <tr>\n",
       "      <th>2</th>\n",
       "      <td>เครื่องประดับ ของ เธอ ระยิบระยับ</td>\n",
       "    </tr>\n",
       "    <tr>\n",
       "      <th>3</th>\n",
       "      <td>ประหยัด งบ</td>\n",
       "    </tr>\n",
       "    <tr>\n",
       "      <th>4</th>\n",
       "      <td>บริเวณ ภาค ตะวันออกเฉียงเหนือ จะ มี ฝน ตกหนัก เป็น วงกว้าง</td>\n",
       "    </tr>\n",
       "    <tr>\n",
       "      <th>5</th>\n",
       "      <td>ใน เมื่อ เขา ไม่ต้องการ รับ ความช่วยเหลือ   มัน ก็ ช่วยไม่ได้</td>\n",
       "    </tr>\n",
       "    <tr>\n",
       "      <th>6</th>\n",
       "      <td>เสริมสร้าง ความเข้มแข็ง และ แก้ไขปัญหา</td>\n",
       "    </tr>\n",
       "    <tr>\n",
       "      <th>7</th>\n",
       "      <td>คุณ คิด อย่างไร กับ เรื่อง นี้</td>\n",
       "    </tr>\n",
       "    <tr>\n",
       "      <th>8</th>\n",
       "      <td>ถึง ที่ทำงาน หรือยัง</td>\n",
       "    </tr>\n",
       "    <tr>\n",
       "      <th>9</th>\n",
       "      <td>ชายหาด จะ แห้ง และ ตื้น เมื่อ ตอน น้ำลง</td>\n",
       "    </tr>\n",
       "    <tr>\n",
       "      <th>10</th>\n",
       "      <td>จะ ต้อง รักษา ความปลอดภัย ภายในประเทศ</td>\n",
       "    </tr>\n",
       "    <tr>\n",
       "      <th>11</th>\n",
       "      <td>ฉัน ไม่ คิด ว่า พ่อ ของ ฉัน จะ อนุญาต</td>\n",
       "    </tr>\n",
       "    <tr>\n",
       "      <th>12</th>\n",
       "      <td>ประชุม</td>\n",
       "    </tr>\n",
       "    <tr>\n",
       "      <th>13</th>\n",
       "      <td>ปกติ เคย เห็น แต่ ระเบิด ภูเขา   เผา กระท่อม   ต้ม กระท่อม นี่   ท่าทาง ยาย จะ รัก สุขภาพ   ไม่ กิน ของ ทอด ของ เผา</td>\n",
       "    </tr>\n",
       "    <tr>\n",
       "      <th>14</th>\n",
       "      <td>ความเย่อหยิ่ง</td>\n",
       "    </tr>\n",
       "    <tr>\n",
       "      <th>15</th>\n",
       "      <td>รวมถึง เปิด ให้ ประชาชน   ได้ ใช้ เสรีภาพ แสดงความคิดเห็น ต่อ สถาบัน กษัตริย์ ได้</td>\n",
       "    </tr>\n",
       "    <tr>\n",
       "      <th>16</th>\n",
       "      <td>กรุงเทพมหานคร เป็น เขตการปกครอง พิเศษ</td>\n",
       "    </tr>\n",
       "    <tr>\n",
       "      <th>17</th>\n",
       "      <td>กอดเข่าเจ่าจุก</td>\n",
       "    </tr>\n",
       "    <tr>\n",
       "      <th>18</th>\n",
       "      <td>อัตรา การ ฆาตกรรม ลดลง ใน เมือง นี้ นับตั้งแต่ ลงทุน ใน ด้าน การศึกษา และ แผน การทำงาน</td>\n",
       "    </tr>\n",
       "    <tr>\n",
       "      <th>19</th>\n",
       "      <td>ผม เสีย ใจจริง จริง ที่ ต้อง ไป ครับ ท่าน ฉัน ตอบกลับ</td>\n",
       "    </tr>\n",
       "  </tbody>\n",
       "</table>"
      ],
      "text/plain": [
       "<IPython.core.display.HTML object>"
      ]
     },
     "metadata": {},
     "output_type": "display_data"
    }
   ],
   "source": [
    "# show random sentences\n",
    "from datasets import ClassLabel\n",
    "import random\n",
    "import pandas as pd\n",
    "from IPython.display import display, HTML\n",
    "\n",
    "\n",
    "def show_random_elements(dataset, num_examples=10):\n",
    "    assert num_examples <= len(\n",
    "        dataset), \"Can't pick more elements than there are in the dataset.\"\n",
    "    picks = []\n",
    "    for _ in range(num_examples):\n",
    "        pick = random.randint(0, len(dataset)-1)\n",
    "        while pick in picks:\n",
    "            pick = random.randint(0, len(dataset)-1)\n",
    "        picks.append(pick)\n",
    "\n",
    "    df = pd.DataFrame(dataset[picks])\n",
    "    display(HTML(df.to_html()))\n",
    "\n",
    "\n",
    "show_random_elements(\n",
    "    datasets[\"train\"].remove_columns([\"path\"]), num_examples=20)\n"
   ]
  },
  {
   "cell_type": "code",
   "execution_count": 119,
   "metadata": {},
   "outputs": [
    {
     "data": {
      "text/plain": [
       "<AxesSubplot:>"
      ]
     },
     "execution_count": 119,
     "metadata": {},
     "output_type": "execute_result"
    },
    {
     "data": {
      "image/png": "[encoded data removed]",
      "text/plain": [
       "<Figure size 432x288 with 1 Axes>"
      ]
     },
     "metadata": {
      "needs_background": "light"
     },
     "output_type": "display_data"
    }
   ],
   "source": [
    "train_df = pd.DataFrame({'sentence': datasets['train']['sentence']})\n",
    "train_df['nb_words'] = train_df.sentence.map(lambda x: len(x.split()))\n",
    "train_df.nb_words.hist(bins=30)\n"
   ]
  },
  {
   "cell_type": "code",
   "execution_count": 120,
   "metadata": {},
   "outputs": [
    {
     "data": {
      "text/plain": [
       "<AxesSubplot:>"
      ]
     },
     "execution_count": 120,
     "metadata": {},
     "output_type": "execute_result"
    },
    {
     "data": {
      "image/png": "[encoded data removed]",
      "text/plain": [
       "<Figure size 432x288 with 1 Axes>"
      ]
     },
     "metadata": {
      "needs_background": "light"
     },
     "output_type": "display_data"
    }
   ],
   "source": [
    "validation_df = pd.DataFrame({'sentence': datasets['validation']['sentence']})\n",
    "validation_df['nb_words'] = validation_df.sentence.map(\n",
    "    lambda x: len(x.split()))\n",
    "validation_df.nb_words.hist(bins=30)\n"
   ]
  },
  {
   "cell_type": "code",
   "execution_count": 121,
   "metadata": {},
   "outputs": [
    {
     "data": {
      "text/plain": [
       "<AxesSubplot:>"
      ]
     },
     "execution_count": 121,
     "metadata": {},
     "output_type": "execute_result"
    },
    {
     "data": {
      "image/png": "[encoded data removed]",
      "text/plain": [
       "<Figure size 432x288 with 1 Axes>"
      ]
     },
     "metadata": {
      "needs_background": "light"
     },
     "output_type": "display_data"
    }
   ],
   "source": [
    "test_df = pd.DataFrame({'sentence': datasets['test']['sentence']})\n",
    "test_df['nb_words'] = test_df.sentence.map(lambda x: len(x.split()))\n",
    "test_df.nb_words.hist(bins=30)\n"
   ]
  },
  {
   "cell_type": "markdown",
   "metadata": {},
   "source": [
    "#### `path`; mp3 files"
   ]
  },
  {
   "cell_type": "code",
   "execution_count": null,
   "metadata": {},
   "outputs": [],
   "source": [
    "# ! It took too long to process, so, I skip this virsualize part\n",
    "train_df = pd.DataFrame({'path': datasets['train']['path']})\n",
    "train_df['sample_rate'] = train_df.path.map(\n",
    "    lambda x: torchaudio.info(x).sample_rate)\n",
    "train_df['num_frames'] = train_df.path.map(\n",
    "    lambda x: torchaudio.info(x).num_frames)\n",
    "train_df['seconds'] = train_df.num_frames / train_df.sample_rate\n",
    "train_df.seconds.hist(bins=30)\n"
   ]
  },
  {
   "cell_type": "code",
   "execution_count": 124,
   "metadata": {},
   "outputs": [],
   "source": [
    "# ! It took too long to process, so, I skip this virsualize part\n",
    "\n",
    "# validation_df = pd.DataFrame({'path': datasets['validation']['path']})\n",
    "# validation_df['sample_rate'] = validation_df.path.map(\n",
    "#     lambda x: AudioSegment.from_mp3(x).frame_rate)\n",
    "# validation_df['num_frames'] = validation_df.path.map(\n",
    "#     lambda x: AudioSegment.from_mp3(x).frame_count())\n",
    "# validation_df['seconds'] = validation_df.num_frames / validation_df.sample_rate\n",
    "# validation_df.seconds.hist(bins=30)\n"
   ]
  },
  {
   "cell_type": "code",
   "execution_count": 125,
   "metadata": {},
   "outputs": [],
   "source": [
    "# ! It took too long to process, so, I skip this virsualize part\n",
    "\n",
    "# test_df = pd.DataFrame({'path': datasets['test']['path']})\n",
    "# test_df['sample_rate'] = test_df.path.map(\n",
    "#     lambda x: AudioSegment.from_mp3(x).frame_rate)\n",
    "# test_df['num_frames'] = test_df.path.map(\n",
    "#     lambda x: AudioSegment.from_mp3(x).frame_count())\n",
    "# test_df['seconds'] = test_df.num_frames / test_df.sample_rate\n",
    "# test_df.seconds.hist(bins=30)\n"
   ]
  },
  {
   "cell_type": "markdown",
   "metadata": {},
   "source": [
    "### Create Wav2Vec2CTCTokenizer"
   ]
  },
  {
   "cell_type": "markdown",
   "metadata": {},
   "source": [
    "[Connectionist Temporal Classification (CTC)](https://distill.pub/2017/ctc/) tokenizer is a character-level tokenizer. We uses space (denoted as `|` token) as word delimiter token and `[PAD]` as blank token. "
   ]
  },
  {
   "cell_type": "code",
   "execution_count": 138,
   "metadata": {},
   "outputs": [
    {
     "name": "stderr",
     "output_type": "stream",
     "text": [
      "100%|██████████| 1/1 [00:00<00:00,  2.95ba/s]\n",
      "100%|██████████| 1/1 [00:00<00:00, 26.31ba/s]\n",
      "100%|██████████| 1/1 [00:00<00:00, 24.38ba/s]\n"
     ]
    },
    {
     "data": {
      "text/plain": [
       "(72,\n",
       " {'ฉ': 0,\n",
       "  'ฒ': 1,\n",
       "  'ธ': 2,\n",
       "  'ถ': 3,\n",
       "  'ิ': 4,\n",
       "  'ฬ': 5,\n",
       "  'โ': 6,\n",
       "  'จ': 7,\n",
       "  'ผ': 8,\n",
       "  'ซ': 9,\n",
       "  ' ': 10,\n",
       "  'ฐ': 11,\n",
       "  'พ': 12,\n",
       "  '็': 13,\n",
       "  'ฌ': 14,\n",
       "  'ั': 15,\n",
       "  'ง': 16,\n",
       "  '[': 17,\n",
       "  'ด': 18,\n",
       "  'า': 19,\n",
       "  'ช': 20,\n",
       "  'ไ': 21,\n",
       "  'ย': 22,\n",
       "  'ู': 23,\n",
       "  'น': 24,\n",
       "  'ฃ': 25,\n",
       "  '|': 26,\n",
       "  'ฟ': 27,\n",
       "  'ื': 28,\n",
       "  'ว': 29,\n",
       "  'อ': 30,\n",
       "  'ฏ': 31,\n",
       "  'ฎ': 32,\n",
       "  '_': 33,\n",
       "  'ณ': 34,\n",
       "  'เ': 35,\n",
       "  '์': 36,\n",
       "  'ข': 37,\n",
       "  '่': 38,\n",
       "  'ฤ': 39,\n",
       "  'ฮ': 40,\n",
       "  'ฑ': 41,\n",
       "  'ใ': 42,\n",
       "  'ษ': 43,\n",
       "  'ศ': 44,\n",
       "  'ะ': 45,\n",
       "  'ล': 46,\n",
       "  'ญ': 47,\n",
       "  'ภ': 48,\n",
       "  'ต': 49,\n",
       "  'ค': 50,\n",
       "  'บ': 51,\n",
       "  'ก': 52,\n",
       "  'ท': 53,\n",
       "  ']': 54,\n",
       "  'ๅ': 55,\n",
       "  'ฆ': 56,\n",
       "  'ม': 57,\n",
       "  'ี': 58,\n",
       "  '๊': 59,\n",
       "  '๋': 60,\n",
       "  'ฯ': 61,\n",
       "  'ป': 62,\n",
       "  '้': 63,\n",
       "  'ร': 64,\n",
       "  'แ': 65,\n",
       "  'ำ': 66,\n",
       "  'ึ': 67,\n",
       "  'ุ': 68,\n",
       "  'ส': 69,\n",
       "  'ห': 70,\n",
       "  'ฝ': 71})"
      ]
     },
     "execution_count": 138,
     "metadata": {},
     "output_type": "execute_result"
    }
   ],
   "source": [
    "def extract_all_chars(batch, text_col=\"sentence\"):\n",
    "    all_text = \" \".join(batch[text_col])\n",
    "    vocab = list(set(all_text))\n",
    "    return {\"vocab\": [vocab], \"all_text\": [all_text]}\n",
    "\n",
    "\n",
    "vocabs = datasets.map(extract_all_chars,\n",
    "                      batched=True,\n",
    "                      batch_size=-1,\n",
    "                      keep_in_memory=True,\n",
    "                      remove_columns=datasets.column_names[\"train\"])\n",
    "\n",
    "# vocab_list = list(set(vocabs[\"train\"][\"vocab\"][0]) | set(vocabs[\"validation\"][\"vocab\"][0]) | set(vocabs[\"test\"][\"vocab\"][0]))\n",
    "vocab_list = list(set(vocabs[\"train\"][\"vocab\"][0])) #strictly no leakage\n",
    "vocab_dict = {v: k for k, v in enumerate(vocab_list)}\n",
    "len(vocab_dict), vocab_dict\n"
   ]
  },
  {
   "cell_type": "code",
   "execution_count": 127,
   "metadata": {},
   "outputs": [],
   "source": [
    "# make space = |\n",
    "vocab_dict[\"|\"] = vocab_dict[\" \"]\n",
    "del vocab_dict[\" \"]\n"
   ]
  },
  {
   "cell_type": "code",
   "execution_count": 128,
   "metadata": {},
   "outputs": [
    {
     "data": {
      "text/plain": [
       "(73,\n",
       " {'ฒ': 0,\n",
       "  'ฬ': 1,\n",
       "  'โ': 2,\n",
       "  'จ': 3,\n",
       "  'พ': 5,\n",
       "  '็': 6,\n",
       "  'ง': 7,\n",
       "  '[': 8,\n",
       "  'า': 9,\n",
       "  '|': 4,\n",
       "  'ฃ': 11,\n",
       "  'ื': 12,\n",
       "  'ฏ': 13,\n",
       "  'ฮ': 14,\n",
       "  '์': 15,\n",
       "  'ข': 16,\n",
       "  'ฤ': 17,\n",
       "  'ใ': 18,\n",
       "  'ศ': 19,\n",
       "  'ล': 20,\n",
       "  'ญ': 21,\n",
       "  'บ': 22,\n",
       "  'ก': 23,\n",
       "  'ท': 24,\n",
       "  ']': 25,\n",
       "  'ๅ': 26,\n",
       "  'ฆ': 27,\n",
       "  'ม': 28,\n",
       "  '๊': 29,\n",
       "  '้': 30,\n",
       "  'ร': 31,\n",
       "  'ุ': 32,\n",
       "  'ส': 33,\n",
       "  'ห': 34,\n",
       "  'ฝ': 35,\n",
       "  'ฉ': 36,\n",
       "  'ธ': 37,\n",
       "  'ถ': 38,\n",
       "  'ิ': 39,\n",
       "  'ผ': 40,\n",
       "  'ซ': 41,\n",
       "  'ฐ': 42,\n",
       "  'ั': 43,\n",
       "  'ด': 44,\n",
       "  'ฌ': 45,\n",
       "  'ช': 46,\n",
       "  'ไ': 47,\n",
       "  'ย': 48,\n",
       "  'ู': 49,\n",
       "  'น': 50,\n",
       "  'ฟ': 51,\n",
       "  'ว': 52,\n",
       "  'อ': 53,\n",
       "  'ฎ': 54,\n",
       "  '_': 55,\n",
       "  'ณ': 56,\n",
       "  'เ': 57,\n",
       "  '่': 58,\n",
       "  'ฑ': 59,\n",
       "  'ษ': 60,\n",
       "  'ะ': 61,\n",
       "  'ภ': 62,\n",
       "  'ต': 63,\n",
       "  'ค': 64,\n",
       "  'ี': 65,\n",
       "  '๋': 66,\n",
       "  'ฯ': 67,\n",
       "  'ป': 68,\n",
       "  'แ': 69,\n",
       "  'ำ': 70,\n",
       "  'ึ': 71,\n",
       "  '[UNK]': 71,\n",
       "  '[PAD]': 72})"
      ]
     },
     "execution_count": 128,
     "metadata": {},
     "output_type": "execute_result"
    }
   ],
   "source": [
    "# padding token serves as blank token\n",
    "vocab_dict[\"[UNK]\"] = len(vocab_dict)\n",
    "vocab_dict[\"[PAD]\"] = len(vocab_dict)\n",
    "len(vocab_dict), vocab_dict\n"
   ]
  },
  {
   "cell_type": "code",
   "execution_count": 129,
   "metadata": {},
   "outputs": [
    {
     "name": "stderr",
     "output_type": "stream",
     "text": [
      "tokenizer config file saved in ../wav2vec2-large-xlsr-53-th\\tokenizer_config.json\n",
      "Special tokens file saved in ../wav2vec2-large-xlsr-53-th\\special_tokens_map.json\n"
     ]
    },
    {
     "data": {
      "text/plain": [
       "('../wav2vec2-large-xlsr-53-th\\\\tokenizer_config.json',\n",
       " '../wav2vec2-large-xlsr-53-th\\\\special_tokens_map.json',\n",
       " '../wav2vec2-large-xlsr-53-th\\\\vocab.json',\n",
       " '../wav2vec2-large-xlsr-53-th\\\\added_tokens.json')"
      ]
     },
     "execution_count": 129,
     "metadata": {},
     "output_type": "execute_result"
    }
   ],
   "source": [
    "# save as json; create tokenizer for the first time and upload to hugginface hub\n",
    "with open('../data/vocab.json', 'w') as vocab_file:\n",
    "    json.dump(vocab_dict, vocab_file)\n",
    "tokenizer = Wav2Vec2CTCTokenizer(\"../data/vocab.json\",\n",
    "                                 unk_token=\"[UNK]\",\n",
    "                                 pad_token=\"[PAD]\",\n",
    "                                 word_delimiter_token=\"|\")\n",
    "tokenizer.save_pretrained('../wav2vec2-large-xlsr-53-th')\n"
   ]
  },
  {
   "cell_type": "code",
   "execution_count": 130,
   "metadata": {},
   "outputs": [
    {
     "name": "stderr",
     "output_type": "stream",
     "text": [
      "loading file https://huggingface.co/airesearch/wav2vec2-large-xlsr-53-th/resolve/main/vocab.json from cache at C:\\Users\\otash/.cache\\huggingface\\transformers\\97445a2b399e97ed06c9b574fb5d0de6c617a2ef1c6a8a866c3da8d59199ada0.e829e370f0e25f78c6143793fc556ec89a45a0ca38012d100d8d5dc7bfbc2330\n",
      "loading file https://huggingface.co/airesearch/wav2vec2-large-xlsr-53-th/resolve/main/tokenizer_config.json from cache at C:\\Users\\otash/.cache\\huggingface\\transformers\\6a1b647225eae4dd35eb0aa1e062bb779fa497b780613384f28f495a637c7405.9a832b91e3d317e7bec01bab5134265b75f2d6b05a270d0140d8a116c51b8591\n",
      "loading file https://huggingface.co/airesearch/wav2vec2-large-xlsr-53-th/resolve/main/added_tokens.json from cache at None\n",
      "loading file https://huggingface.co/airesearch/wav2vec2-large-xlsr-53-th/resolve/main/special_tokens_map.json from cache at C:\\Users\\otash/.cache\\huggingface\\transformers\\e2f4de852e6b998b568b7742262188577a6228605e0c618af06f515e567e5345.a21d51735cf8667bcd610f057e88548d5d6a381401f6b4501a8bc6c1a9dc8498\n",
      "loading file https://huggingface.co/airesearch/wav2vec2-large-xlsr-53-th/resolve/main/tokenizer.json from cache at None\n",
      "Adding <s> to the vocabulary\n",
      "Adding </s> to the vocabulary\n",
      "Special tokens have been added in the vocabulary, make sure the associated word embeddings are fine-tuned or trained.\n"
     ]
    }
   ],
   "source": [
    "tokenizer = Wav2Vec2CTCTokenizer.from_pretrained(\n",
    "    \"airesearch/wav2vec2-large-xlsr-53-th\")\n"
   ]
  },
  {
   "cell_type": "code",
   "execution_count": 131,
   "metadata": {},
   "outputs": [
    {
     "data": {
      "text/plain": [
       "'ยี่ สิบห้า'"
      ]
     },
     "execution_count": 131,
     "metadata": {},
     "output_type": "execute_result"
    }
   ],
   "source": [
    "datasets['train'][0]['sentence']\n"
   ]
  },
  {
   "cell_type": "code",
   "execution_count": 132,
   "metadata": {},
   "outputs": [
    {
     "data": {
      "text/plain": [
       "{'input_ids': [24, 32, 15, 42, 67, 64, 33, 40, 7, 16], 'attention_mask': [1, 1, 1, 1, 1, 1, 1, 1, 1, 1]}"
      ]
     },
     "execution_count": 132,
     "metadata": {},
     "output_type": "execute_result"
    }
   ],
   "source": [
    "tokenizer(datasets['train'][0]['sentence'])\n"
   ]
  },
  {
   "cell_type": "code",
   "execution_count": 133,
   "metadata": {},
   "outputs": [
    {
     "data": {
      "text/plain": [
       "'ยี่ สิบห้า'"
      ]
     },
     "execution_count": 133,
     "metadata": {},
     "output_type": "execute_result"
    }
   ],
   "source": [
    "tokenizer.decode(tokenizer(datasets['train'][0]['sentence']).input_ids)\n"
   ]
  },
  {
   "cell_type": "code",
   "execution_count": 79,
   "metadata": {},
   "outputs": [
    {
     "data": {
      "text/plain": [
       "70"
      ]
     },
     "execution_count": 79,
     "metadata": {},
     "output_type": "execute_result"
    }
   ],
   "source": [
    "tokenizer.vocab_size\n"
   ]
  },
  {
   "cell_type": "markdown",
   "metadata": {},
   "source": [
    "### Create Wav2Vec2 Feature Extractor"
   ]
  },
  {
   "cell_type": "markdown",
   "metadata": {},
   "source": [
    "Wav2Vec2 was pretrained on the audio data of [LibriSpeech](https://huggingface.co/datasets/librispeech_asr) and LibriVox which both were sampling with 16kHz. [Common Voice Corpus 7.0](https://commonvoice.mozilla.org/en/datasets) has 32kHz sampling rate.\n",
    "\n",
    "A Wav2Vec2 feature extractor object requires the following parameters to be instantiated:\n",
    "\n",
    "- `feature_size`: Speech models take a sequence of feature vectors as an input. While the length of this sequence obviously varies, the feature size should not. In the case of Wav2Vec2, the feature size is 1 because the model was trained on the raw speech signal ${}^2$.\n",
    "- `sampling_rate`: The sampling rate at which the model is trained on.\n",
    "- `padding_value`: For batched inference, shorter inputs need to be padded with a specific value\n",
    "- `do_normalize`: Whether the input should be *zero-mean-unit-variance* normalized or not. Usually, speech models perform better when normalizing the input\n",
    "- `return_attention_mask`: Whether the model should make use of an `attention_mask` for batched inference. In general, models should **always** make use of the `attention_mask` to mask padded tokens. However, due to a very specific design choice of `Wav2Vec2`'s \"base\" checkpoint, better results are achieved when using no `attention_mask`. This is **not** recommended for other speech models. For more information, one can take a look at [this](https://github.com/pytorch/fairseq/issues/3227) issue. **Important** If you want to use this notebook to fine-tune [large-lv60](https://huggingface.co/facebook/wav2vec2-large-lv60), this parameter should be set to `True`."
   ]
  },
  {
   "cell_type": "code",
   "execution_count": 80,
   "metadata": {},
   "outputs": [],
   "source": [
    "feature_extractor = Wav2Vec2FeatureExtractor(feature_size=1,\n",
    "                                             sampling_rate=16000,\n",
    "                                             padding_value=0.0,\n",
    "                                             do_normalize=True,\n",
    "                                             return_attention_mask=False)\n"
   ]
  },
  {
   "cell_type": "code",
   "execution_count": 81,
   "metadata": {},
   "outputs": [],
   "source": [
    "processor = Wav2Vec2Processor(\n",
    "    feature_extractor=feature_extractor, tokenizer=tokenizer)\n"
   ]
  },
  {
   "cell_type": "markdown",
   "metadata": {},
   "source": [
    "### Preprocess Data"
   ]
  },
  {
   "cell_type": "markdown",
   "metadata": {},
   "source": [
    "We resample to 16kHz with which `wav2vec2` was pretrained on."
   ]
  },
  {
   "cell_type": "code",
   "execution_count": 82,
   "metadata": {},
   "outputs": [],
   "source": [
    "import audio2numpy as a2n\n",
    "import torch\n",
    "import numpy as np\n",
    "\n",
    "\n",
    "def load_mp3(path: str):\n",
    "    r\"\"\"replace: torchaudio.load(path) which cannot load .mp3\"\"\"\n",
    "    speech_array, sampling_rate = a2n.audio_from_file(path)\n",
    "    speech_array = torch.tensor(np.array([speech_array]))\n",
    "    return speech_array, sampling_rate\n"
   ]
  },
  {
   "cell_type": "code",
   "execution_count": 83,
   "metadata": {},
   "outputs": [],
   "source": [
    "def speech_file_to_array_fn(batch,\n",
    "                            text_col=\"sentence\",\n",
    "                            fname_col=\"path\",\n",
    "                            resampling_to=16000):\n",
    "    # speech_array, sampling_rate = torchaudio.load(batch[fname_col])\n",
    "    speech_array, sampling_rate = load_mp3(batch[fname_col])\n",
    "    resampler = torchaudio.transforms.Resample(sampling_rate, resampling_to)\n",
    "    batch[\"speech\"] = resampler(speech_array)[0].numpy()\n",
    "    batch[\"sampling_rate\"] = resampling_to\n",
    "    batch[\"target_text\"] = batch[text_col]\n",
    "    return batch\n"
   ]
  },
  {
   "cell_type": "code",
   "execution_count": null,
   "metadata": {},
   "outputs": [],
   "source": [
    "# ! OSError: file not found\n",
    "speech_datasets = datasets.map(speech_file_to_array_fn,\n",
    "                               remove_columns=datasets.column_names[\"train\"])\n",
    "speech_datasets\n"
   ]
  },
  {
   "cell_type": "code",
   "execution_count": 86,
   "metadata": {},
   "outputs": [
    {
     "data": {
      "text/plain": [
       "DatasetDict({\n",
       "    train: Dataset({\n",
       "        features: ['speech', 'sampling_rate', 'target_text'],\n",
       "        num_rows: 98406\n",
       "    })\n",
       "    test: Dataset({\n",
       "        features: ['speech', 'sampling_rate', 'target_text'],\n",
       "        num_rows: 10759\n",
       "    })\n",
       "    validation: Dataset({\n",
       "        features: ['speech', 'sampling_rate', 'target_text'],\n",
       "        num_rows: 10766\n",
       "    })\n",
       "})"
      ]
     },
     "execution_count": 86,
     "metadata": {},
     "output_type": "execute_result"
    }
   ],
   "source": [
    "speech_datasets\n"
   ]
  },
  {
   "cell_type": "code",
   "execution_count": 87,
   "metadata": {},
   "outputs": [
    {
     "name": "stdout",
     "output_type": "stream",
     "text": [
      "สถาบันค้นคว้า\n"
     ]
    },
    {
     "data": {
      "text/html": [
       "\n",
       "                <audio  controls=\"controls\" autoplay=\"autoplay\">\n",
       "                    <source src=\"data:audio/wav;base64,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\" type=\"audio/wav\" />\n",
       "                    Your browser does not support the audio element.\n",
       "                </audio>\n",
       "              "
      ],
      "text/plain": [
       "<IPython.lib.display.Audio object>"
      ]
     },
     "execution_count": 87,
     "metadata": {},
     "output_type": "execute_result"
    }
   ],
   "source": [
    "# sample sounds\n",
    "import IPython.display as ipd\n",
    "import numpy as np\n",
    "import random\n",
    "\n",
    "rand_int = random.randint(0, len(speech_datasets[\"train\"]))\n",
    "print(speech_datasets[\"train\"][rand_int][\"target_text\"])\n",
    "ipd.Audio(data=np.asarray(\n",
    "    speech_datasets[\"train\"][rand_int][\"speech\"]), autoplay=True, rate=16000)\n"
   ]
  },
  {
   "cell_type": "markdown",
   "metadata": {},
   "source": [
    "Then we prepare `input_values` using processor and labels using `target_text`."
   ]
  },
  {
   "cell_type": "code",
   "execution_count": 88,
   "metadata": {},
   "outputs": [],
   "source": [
    "def prepare_dataset(batch):\n",
    "    # check that all files have the correct sampling rate\n",
    "    assert (\n",
    "        len(set(batch[\"sampling_rate\"])) == 1\n",
    "    ), f\"Make sure all inputs have the same sampling rate of {processor.feature_extractor.sampling_rate}.\"\n",
    "\n",
    "    batch[\"input_values\"] = processor(\n",
    "        batch[\"speech\"], sampling_rate=batch[\"sampling_rate\"][0]).input_values\n",
    "\n",
    "    with processor.as_target_processor():\n",
    "        batch[\"labels\"] = processor(batch[\"target_text\"]).input_ids\n",
    "    return batch\n"
   ]
  },
  {
   "cell_type": "code",
   "execution_count": 89,
   "metadata": {},
   "outputs": [],
   "source": [
    "# # ! For first time processing (~50 mins)\n",
    "# prepared_datasets = speech_datasets.map(prepare_dataset,\n",
    "#                                         remove_columns=speech_datasets.column_names[\"train\"],\n",
    "#                                         batch_size=16,\n",
    "#                                         batched=True)\n",
    "# prepared_datasets.save_to_disk('D:\\.cache\\huggingface\\datasets')"
   ]
  },
  {
   "cell_type": "code",
   "execution_count": 90,
   "metadata": {},
   "outputs": [],
   "source": [
    "# ! For 2nd time\n",
    "prepared_datasets = load_from_disk('D:\\.cache\\huggingface\\datasets')\n"
   ]
  },
  {
   "cell_type": "code",
   "execution_count": 91,
   "metadata": {},
   "outputs": [],
   "source": [
    "# credentials = pd.read_csv('../data/rootkey.csv',header=None)\n",
    "# aws_access_key_id = credentials.iloc[0,0].split('=')[-1]\n",
    "# aws_secret_access_key = credentials.iloc[1,0].split('=')[-1]\n",
    "# s3 = S3FileSystem(key=aws_access_key_id, secret=aws_secret_access_key)\n",
    "# prepared_datasets.save_to_disk('s3://sagemaker-studio-g2rfihg7k9q/wav2vec2-large-xlsr-th/', fs=s3)\n",
    "# !aws s3 ls --summarize --human-readable --recursive s3://sagemaker-studio-g2rfihg7k9q/wav2vec2-large-xlsr-th/\n"
   ]
  },
  {
   "cell_type": "code",
   "execution_count": 92,
   "metadata": {},
   "outputs": [],
   "source": [
    "# credentials = pd.read_csv('../data/rootkey.csv',header=None)\n",
    "# aws_access_key_id = credentials.iloc[0,0].split('=')[-1]\n",
    "# aws_secret_access_key = credentials.iloc[1,0].split('=')[-1]\n",
    "# s3 = S3FileSystem(key=aws_access_key_id, secret=aws_secret_access_key)\n",
    "# prepared_datasets = load_from_disk('s3://sagemaker-studio-g2rfihg7k9q/wav2vec2-large-xlsr-th/', fs=s3)\n"
   ]
  },
  {
   "cell_type": "code",
   "execution_count": 93,
   "metadata": {},
   "outputs": [
    {
     "data": {
      "text/plain": [
       "DatasetDict({\n",
       "    train: Dataset({\n",
       "        features: ['input_values', 'labels'],\n",
       "        num_rows: 98406\n",
       "    })\n",
       "    test: Dataset({\n",
       "        features: ['input_values', 'labels'],\n",
       "        num_rows: 10759\n",
       "    })\n",
       "    validation: Dataset({\n",
       "        features: ['input_values', 'labels'],\n",
       "        num_rows: 10766\n",
       "    })\n",
       "})"
      ]
     },
     "execution_count": 93,
     "metadata": {},
     "output_type": "execute_result"
    }
   ],
   "source": [
    "prepared_datasets\n"
   ]
  },
  {
   "cell_type": "markdown",
   "metadata": {},
   "source": [
    "## Training"
   ]
  },
  {
   "cell_type": "markdown",
   "metadata": {},
   "source": [
    "### Data Collator"
   ]
  },
  {
   "cell_type": "code",
   "execution_count": 94,
   "metadata": {},
   "outputs": [],
   "source": [
    "import torch\n",
    "\n",
    "from dataclasses import dataclass, field\n",
    "from typing import Any, Dict, List, Optional, Union\n",
    "\n",
    "\n",
    "@dataclass\n",
    "class DataCollatorCTCWithPadding:\n",
    "    \"\"\"\n",
    "    Data collator that will dynamically pad the inputs received.\n",
    "    Args:\n",
    "        processor (:class:`~transformers.Wav2Vec2Processor`)\n",
    "            The processor used for proccessing the data.\n",
    "        padding (:obj:`bool`, :obj:`str` or :class:`~transformers.tokenization_utils_base.PaddingStrategy`, `optional`, defaults to :obj:`True`):\n",
    "            Select a strategy to pad the returned sequences (according to the model's padding side and padding index)\n",
    "            among:\n",
    "            * :obj:`True` or :obj:`'longest'`: Pad to the longest sequence in the batch (or no padding if only a single\n",
    "              sequence if provided).\n",
    "            * :obj:`'max_length'`: Pad to a maximum length specified with the argument :obj:`max_length` or to the\n",
    "              maximum acceptable input length for the model if that argument is not provided.\n",
    "            * :obj:`False` or :obj:`'do_not_pad'` (default): No padding (i.e., can output a batch with sequences of\n",
    "              different lengths).\n",
    "        max_length (:obj:`int`, `optional`):\n",
    "            Maximum length of the ``input_values`` of the returned list and optionally padding length (see above).\n",
    "        max_length_labels (:obj:`int`, `optional`):\n",
    "            Maximum length of the ``labels`` returned list and optionally padding length (see above).\n",
    "        pad_to_multiple_of (:obj:`int`, `optional`):\n",
    "            If set will pad the sequence to a multiple of the provided value.\n",
    "            This is especially useful to enable the use of Tensor Cores on NVIDIA hardware with compute capability >=\n",
    "            7.5 (Volta).\n",
    "    \"\"\"\n",
    "\n",
    "    processor: Wav2Vec2Processor\n",
    "    padding: Union[bool, str] = True\n",
    "    max_length: Optional[int] = None\n",
    "    max_length_labels: Optional[int] = None\n",
    "    pad_to_multiple_of: Optional[int] = None\n",
    "    pad_to_multiple_of_labels: Optional[int] = None\n",
    "\n",
    "    def __call__(self, features: List[Dict[str, Union[List[int], torch.Tensor]]]) -> Dict[str, torch.Tensor]:\n",
    "        # split inputs and labels since they have to be of different lenghts and need\n",
    "        # different padding methods\n",
    "        input_features = [{\"input_values\": feature[\"input_values\"]}\n",
    "                          for feature in features]\n",
    "        label_features = [{\"input_ids\": feature[\"labels\"]}\n",
    "                          for feature in features]\n",
    "\n",
    "        batch = self.processor.pad(\n",
    "            input_features,\n",
    "            padding=self.padding,\n",
    "            max_length=self.max_length,\n",
    "            pad_to_multiple_of=self.pad_to_multiple_of,\n",
    "            return_tensors=\"pt\",\n",
    "        )\n",
    "        with self.processor.as_target_processor():\n",
    "            labels_batch = self.processor.pad(\n",
    "                label_features,\n",
    "                padding=self.padding,\n",
    "                max_length=self.max_length_labels,\n",
    "                pad_to_multiple_of=self.pad_to_multiple_of_labels,\n",
    "                return_tensors=\"pt\",\n",
    "            )\n",
    "\n",
    "        # replace padding with -100 to ignore loss correctly\n",
    "        labels = labels_batch[\"input_ids\"].masked_fill(\n",
    "            labels_batch.attention_mask.ne(1), -100)\n",
    "\n",
    "        batch[\"labels\"] = labels\n",
    "\n",
    "        return batch\n"
   ]
  },
  {
   "cell_type": "code",
   "execution_count": 95,
   "metadata": {},
   "outputs": [],
   "source": [
    "data_collator = DataCollatorCTCWithPadding(processor=processor, padding=True)\n"
   ]
  },
  {
   "cell_type": "markdown",
   "metadata": {},
   "source": [
    "### Metric"
   ]
  },
  {
   "cell_type": "markdown",
   "metadata": {},
   "source": [
    "We use word error rate with space as word boundary. We created those spaces using `pythainlp.tokenize.word_tokenize` (2.3.1). We also use character error rate without word boundaries."
   ]
  },
  {
   "cell_type": "code",
   "execution_count": 96,
   "metadata": {},
   "outputs": [],
   "source": [
    "wer_metric = load_metric(\"wer\")\n"
   ]
  },
  {
   "cell_type": "code",
   "execution_count": 97,
   "metadata": {},
   "outputs": [
    {
     "data": {
      "text/plain": [
       "0.5"
      ]
     },
     "execution_count": 97,
     "metadata": {},
     "output_type": "execute_result"
    }
   ],
   "source": [
    "wer_metric.compute(predictions=['สวัสดี ค่า ทุก โคน'], references=[\n",
    "                   'สวัสดี ค่ะ ทุก คน'])\n"
   ]
  },
  {
   "cell_type": "code",
   "execution_count": 98,
   "metadata": {},
   "outputs": [],
   "source": [
    "cer_metric = load_metric('cer')\n"
   ]
  },
  {
   "cell_type": "code",
   "execution_count": 99,
   "metadata": {},
   "outputs": [
    {
     "data": {
      "text/plain": [
       "0.11764705882352941"
      ]
     },
     "execution_count": 99,
     "metadata": {},
     "output_type": "execute_result"
    }
   ],
   "source": [
    "cer_metric.compute(predictions=['สวัสดี ค่า ทุก โคน'], references=[\n",
    "                   'สวัสดี ค่ะ ทุก คน'])\n"
   ]
  },
  {
   "cell_type": "code",
   "execution_count": 100,
   "metadata": {},
   "outputs": [
    {
     "data": {
      "text/plain": [
       "0.14285714285714285"
      ]
     },
     "execution_count": 100,
     "metadata": {},
     "output_type": "execute_result"
    }
   ],
   "source": [
    "cer_metric.compute(predictions=['สวัสดีค่าทุกโคน'],\n",
    "                   references=['สวัสดีค่ะทุกคน'])\n"
   ]
  },
  {
   "cell_type": "code",
   "execution_count": 101,
   "metadata": {},
   "outputs": [],
   "source": [
    "def compute_metrics(pred, processor, metric):\n",
    "    pred_logits = pred.predictions\n",
    "    pred_ids = np.argmax(pred_logits, axis=-1)\n",
    "\n",
    "    pred.label_ids[pred.label_ids == -100] = processor.tokenizer.pad_token_id\n",
    "\n",
    "    pred_str = processor.batch_decode(pred_ids)\n",
    "    # we do not want to group tokens when computing the metrics\n",
    "    label_str = processor.batch_decode(pred.label_ids, group_tokens=False)\n",
    "\n",
    "    wer = wer_metric.compute(predictions=pred_str, references=label_str)\n",
    "\n",
    "    return {\"wer\": wer}\n"
   ]
  },
  {
   "cell_type": "markdown",
   "metadata": {},
   "source": [
    "### Model"
   ]
  },
  {
   "cell_type": "markdown",
   "metadata": {},
   "source": [
    "We use the pretrained `airesearch/wav2vec2-large-xlsr-53-th`. The training script is `scripts/wav2vec_finetune.py`."
   ]
  },
  {
   "cell_type": "code",
   "execution_count": 104,
   "metadata": {},
   "outputs": [
    {
     "name": "stderr",
     "output_type": "stream",
     "text": [
      "Some weights of the model checkpoint at facebook/wav2vec2-large-xlsr-53 were not used when initializing Wav2Vec2ForCTC: ['quantizer.weight_proj.weight', 'project_hid.bias', 'project_hid.weight', 'project_q.bias', 'quantizer.codevectors', 'quantizer.weight_proj.bias', 'project_q.weight']\n",
      "- This IS expected if you are initializing Wav2Vec2ForCTC from the checkpoint of a model trained on another task or with another architecture (e.g. initializing a BertForSequenceClassification model from a BertForPreTraining model).\n",
      "- This IS NOT expected if you are initializing Wav2Vec2ForCTC from the checkpoint of a model that you expect to be exactly identical (initializing a BertForSequenceClassification model from a BertForSequenceClassification model).\n",
      "Some weights of Wav2Vec2ForCTC were not initialized from the model checkpoint at facebook/wav2vec2-large-xlsr-53 and are newly initialized: ['lm_head.bias', 'lm_head.weight']\n",
      "You should probably TRAIN this model on a down-stream task to be able to use it for predictions and inference.\n"
     ]
    }
   ],
   "source": [
    "model = Wav2Vec2ForCTC.from_pretrained(\n",
    "    \"facebook/wav2vec2-large-xlsr-53\",\n",
    "    # \"airesearch/wav2vec2-large-xlsr-53-th\",\n",
    "    attention_dropout=0.1,\n",
    "    hidden_dropout=0.1,\n",
    "    feat_proj_dropout=0.0,\n",
    "    mask_time_prob=0.05,\n",
    "    layerdrop=0.1,\n",
    "    gradient_checkpointing=True,\n",
    "    ctc_loss_reduction=\"mean\",\n",
    "    pad_token_id=processor.tokenizer.pad_token_id,\n",
    "    vocab_size=len(processor.tokenizer)\n",
    ")\n"
   ]
  },
  {
   "cell_type": "markdown",
   "metadata": {},
   "source": [
    "We do not finetune the feature extractor layer."
   ]
  },
  {
   "cell_type": "code",
   "execution_count": 105,
   "metadata": {},
   "outputs": [
    {
     "name": "stderr",
     "output_type": "stream",
     "text": [
      "C:\\Users\\otash\\AppData\\Local\\Packages\\PythonSoftwareFoundation.Python.3.7_qbz5n2kfra8p0\\LocalCache\\local-packages\\Python37\\site-packages\\transformers\\models\\wav2vec2\\modeling_wav2vec2.py:1703: FutureWarning: The method `freeze_feature_extractor` is deprecated and will be removed in Transformers v5.Please use the equivalent `freeze_feature_encoder` method instead.\n",
      "  FutureWarning,\n"
     ]
    }
   ],
   "source": [
    "model.freeze_feature_extractor()\n"
   ]
  },
  {
   "cell_type": "code",
   "execution_count": 106,
   "metadata": {},
   "outputs": [],
   "source": [
    "training_args = TrainingArguments(\n",
    "    output_dir=\"../data/wav2vec2-large-xlsr-53-thai\",\n",
    "    group_by_length=True,\n",
    "    per_device_train_batch_size=32,\n",
    "    gradient_accumulation_steps=1,\n",
    "    per_device_eval_batch_size=16,\n",
    "    metric_for_best_model='wer',\n",
    "    evaluation_strategy=\"steps\",\n",
    "    eval_steps=1000,\n",
    "    logging_strategy=\"steps\",\n",
    "    logging_steps=1000,\n",
    "    save_strategy=\"steps\",\n",
    "    save_steps=1000,\n",
    "    num_train_epochs=100,\n",
    "    fp16=True,\n",
    "    learning_rate=1e-4,\n",
    "    warmup_steps=1000,\n",
    "    save_total_limit=3,\n",
    "    report_to=\"tensorboard\"\n",
    ")\n"
   ]
  },
  {
   "cell_type": "code",
   "execution_count": 108,
   "metadata": {},
   "outputs": [
    {
     "name": "stderr",
     "output_type": "stream",
     "text": [
      "Using amp half precision backend\n"
     ]
    }
   ],
   "source": [
    "trainer = Trainer(\n",
    "    model=model,\n",
    "    data_collator=data_collator,\n",
    "    args=training_args,\n",
    "    compute_metrics=partial(\n",
    "        compute_metrics, metric=wer_metric, processor=processor),\n",
    "    train_dataset=prepared_datasets[\"train\"],\n",
    "    eval_dataset=prepared_datasets[\"validation\"],\n",
    "    tokenizer=processor.feature_extractor,\n",
    ")\n"
   ]
  },
  {
   "cell_type": "code",
   "execution_count": 109,
   "metadata": {},
   "outputs": [
    {
     "ename": "KeyboardInterrupt",
     "evalue": "",
     "output_type": "error",
     "traceback": [
      "\u001b[1;31m---------------------------------------------------------------------------\u001b[0m",
      "\u001b[1;31mKeyboardInterrupt\u001b[0m                         Traceback (most recent call last)",
      "\u001b[1;32m~\\AppData\\Local\\Temp\\ipykernel_13352\\49973641.py\u001b[0m in \u001b[0;36m<module>\u001b[1;34m\u001b[0m\n\u001b[1;32m----> 1\u001b[1;33m \u001b[0mtrainer\u001b[0m\u001b[1;33m.\u001b[0m\u001b[0mtrain\u001b[0m\u001b[1;33m(\u001b[0m\u001b[1;33m)\u001b[0m\u001b[1;33m\u001b[0m\u001b[1;33m\u001b[0m\u001b[0m\n\u001b[0m",
      "\u001b[1;32m~\\AppData\\Local\\Packages\\PythonSoftwareFoundation.Python.3.7_qbz5n2kfra8p0\\LocalCache\\local-packages\\Python37\\site-packages\\transformers\\trainer.py\u001b[0m in \u001b[0;36mtrain\u001b[1;34m(self, resume_from_checkpoint, trial, ignore_keys_for_eval, **kwargs)\u001b[0m\n\u001b[0;32m   1161\u001b[0m \u001b[1;33m\u001b[0m\u001b[0m\n\u001b[0;32m   1162\u001b[0m         \u001b[1;31m# Data loader and number of training steps\u001b[0m\u001b[1;33m\u001b[0m\u001b[1;33m\u001b[0m\u001b[1;33m\u001b[0m\u001b[0m\n\u001b[1;32m-> 1163\u001b[1;33m         \u001b[0mtrain_dataloader\u001b[0m \u001b[1;33m=\u001b[0m \u001b[0mself\u001b[0m\u001b[1;33m.\u001b[0m\u001b[0mget_train_dataloader\u001b[0m\u001b[1;33m(\u001b[0m\u001b[1;33m)\u001b[0m\u001b[1;33m\u001b[0m\u001b[1;33m\u001b[0m\u001b[0m\n\u001b[0m\u001b[0;32m   1164\u001b[0m \u001b[1;33m\u001b[0m\u001b[0m\n\u001b[0;32m   1165\u001b[0m         \u001b[1;31m# Setting up training control variables:\u001b[0m\u001b[1;33m\u001b[0m\u001b[1;33m\u001b[0m\u001b[1;33m\u001b[0m\u001b[0m\n",
      "\u001b[1;32m~\\AppData\\Local\\Packages\\PythonSoftwareFoundation.Python.3.7_qbz5n2kfra8p0\\LocalCache\\local-packages\\Python37\\site-packages\\transformers\\trainer.py\u001b[0m in \u001b[0;36mget_train_dataloader\u001b[1;34m(self)\u001b[0m\n\u001b[0;32m    662\u001b[0m             )\n\u001b[0;32m    663\u001b[0m \u001b[1;33m\u001b[0m\u001b[0m\n\u001b[1;32m--> 664\u001b[1;33m         \u001b[0mtrain_sampler\u001b[0m \u001b[1;33m=\u001b[0m \u001b[0mself\u001b[0m\u001b[1;33m.\u001b[0m\u001b[0m_get_train_sampler\u001b[0m\u001b[1;33m(\u001b[0m\u001b[1;33m)\u001b[0m\u001b[1;33m\u001b[0m\u001b[1;33m\u001b[0m\u001b[0m\n\u001b[0m\u001b[0;32m    665\u001b[0m \u001b[1;33m\u001b[0m\u001b[0m\n\u001b[0;32m    666\u001b[0m         return DataLoader(\n",
      "\u001b[1;32m~\\AppData\\Local\\Packages\\PythonSoftwareFoundation.Python.3.7_qbz5n2kfra8p0\\LocalCache\\local-packages\\Python37\\site-packages\\transformers\\trainer.py\u001b[0m in \u001b[0;36m_get_train_sampler\u001b[1;34m(self)\u001b[0m\n\u001b[0;32m    590\u001b[0m                     \u001b[0mlengths\u001b[0m\u001b[1;33m=\u001b[0m\u001b[0mlengths\u001b[0m\u001b[1;33m,\u001b[0m\u001b[1;33m\u001b[0m\u001b[1;33m\u001b[0m\u001b[0m\n\u001b[0;32m    591\u001b[0m                     \u001b[0mmodel_input_name\u001b[0m\u001b[1;33m=\u001b[0m\u001b[0mmodel_input_name\u001b[0m\u001b[1;33m,\u001b[0m\u001b[1;33m\u001b[0m\u001b[1;33m\u001b[0m\u001b[0m\n\u001b[1;32m--> 592\u001b[1;33m                     \u001b[0mgenerator\u001b[0m\u001b[1;33m=\u001b[0m\u001b[0mgenerator\u001b[0m\u001b[1;33m,\u001b[0m\u001b[1;33m\u001b[0m\u001b[1;33m\u001b[0m\u001b[0m\n\u001b[0m\u001b[0;32m    593\u001b[0m                 )\n\u001b[0;32m    594\u001b[0m             \u001b[1;32melse\u001b[0m\u001b[1;33m:\u001b[0m\u001b[1;33m\u001b[0m\u001b[1;33m\u001b[0m\u001b[0m\n",
      "\u001b[1;32m~\\AppData\\Local\\Packages\\PythonSoftwareFoundation.Python.3.7_qbz5n2kfra8p0\\LocalCache\\local-packages\\Python37\\site-packages\\transformers\\trainer_pt_utils.py\u001b[0m in \u001b[0;36m__init__\u001b[1;34m(self, batch_size, dataset, lengths, model_input_name, generator)\u001b[0m\n\u001b[0;32m    547\u001b[0m                     \u001b[1;34mf\"'{model_input_name}' key.\"\u001b[0m\u001b[1;33m\u001b[0m\u001b[1;33m\u001b[0m\u001b[0m\n\u001b[0;32m    548\u001b[0m                 )\n\u001b[1;32m--> 549\u001b[1;33m             \u001b[0mlengths\u001b[0m \u001b[1;33m=\u001b[0m \u001b[1;33m[\u001b[0m\u001b[0mlen\u001b[0m\u001b[1;33m(\u001b[0m\u001b[0mfeature\u001b[0m\u001b[1;33m[\u001b[0m\u001b[0mmodel_input_name\u001b[0m\u001b[1;33m]\u001b[0m\u001b[1;33m)\u001b[0m \u001b[1;32mfor\u001b[0m \u001b[0mfeature\u001b[0m \u001b[1;32min\u001b[0m \u001b[0mdataset\u001b[0m\u001b[1;33m]\u001b[0m\u001b[1;33m\u001b[0m\u001b[1;33m\u001b[0m\u001b[0m\n\u001b[0m\u001b[0;32m    550\u001b[0m         \u001b[0mself\u001b[0m\u001b[1;33m.\u001b[0m\u001b[0mlengths\u001b[0m \u001b[1;33m=\u001b[0m \u001b[0mlengths\u001b[0m\u001b[1;33m\u001b[0m\u001b[1;33m\u001b[0m\u001b[0m\n\u001b[0;32m    551\u001b[0m         \u001b[0mself\u001b[0m\u001b[1;33m.\u001b[0m\u001b[0mgenerator\u001b[0m \u001b[1;33m=\u001b[0m \u001b[0mgenerator\u001b[0m\u001b[1;33m\u001b[0m\u001b[1;33m\u001b[0m\u001b[0m\n",
      "\u001b[1;32m~\\AppData\\Local\\Packages\\PythonSoftwareFoundation.Python.3.7_qbz5n2kfra8p0\\LocalCache\\local-packages\\Python37\\site-packages\\transformers\\trainer_pt_utils.py\u001b[0m in \u001b[0;36m<listcomp>\u001b[1;34m(.0)\u001b[0m\n\u001b[0;32m    547\u001b[0m                     \u001b[1;34mf\"'{model_input_name}' key.\"\u001b[0m\u001b[1;33m\u001b[0m\u001b[1;33m\u001b[0m\u001b[0m\n\u001b[0;32m    548\u001b[0m                 )\n\u001b[1;32m--> 549\u001b[1;33m             \u001b[0mlengths\u001b[0m \u001b[1;33m=\u001b[0m \u001b[1;33m[\u001b[0m\u001b[0mlen\u001b[0m\u001b[1;33m(\u001b[0m\u001b[0mfeature\u001b[0m\u001b[1;33m[\u001b[0m\u001b[0mmodel_input_name\u001b[0m\u001b[1;33m]\u001b[0m\u001b[1;33m)\u001b[0m \u001b[1;32mfor\u001b[0m \u001b[0mfeature\u001b[0m \u001b[1;32min\u001b[0m \u001b[0mdataset\u001b[0m\u001b[1;33m]\u001b[0m\u001b[1;33m\u001b[0m\u001b[1;33m\u001b[0m\u001b[0m\n\u001b[0m\u001b[0;32m    550\u001b[0m         \u001b[0mself\u001b[0m\u001b[1;33m.\u001b[0m\u001b[0mlengths\u001b[0m \u001b[1;33m=\u001b[0m \u001b[0mlengths\u001b[0m\u001b[1;33m\u001b[0m\u001b[1;33m\u001b[0m\u001b[0m\n\u001b[0;32m    551\u001b[0m         \u001b[0mself\u001b[0m\u001b[1;33m.\u001b[0m\u001b[0mgenerator\u001b[0m \u001b[1;33m=\u001b[0m \u001b[0mgenerator\u001b[0m\u001b[1;33m\u001b[0m\u001b[1;33m\u001b[0m\u001b[0m\n",
      "\u001b[1;32m~\\AppData\\Local\\Packages\\PythonSoftwareFoundation.Python.3.7_qbz5n2kfra8p0\\LocalCache\\local-packages\\Python37\\site-packages\\datasets\\arrow_dataset.py\u001b[0m in \u001b[0;36m_iter\u001b[1;34m(self, decoded)\u001b[0m\n\u001b[0;32m   1659\u001b[0m             yield self._getitem(\n\u001b[0;32m   1660\u001b[0m                 \u001b[0mindex\u001b[0m\u001b[1;33m,\u001b[0m\u001b[1;33m\u001b[0m\u001b[1;33m\u001b[0m\u001b[0m\n\u001b[1;32m-> 1661\u001b[1;33m                 \u001b[0mdecoded\u001b[0m\u001b[1;33m=\u001b[0m\u001b[0mdecoded\u001b[0m\u001b[1;33m,\u001b[0m\u001b[1;33m\u001b[0m\u001b[1;33m\u001b[0m\u001b[0m\n\u001b[0m\u001b[0;32m   1662\u001b[0m             )\n\u001b[0;32m   1663\u001b[0m \u001b[1;33m\u001b[0m\u001b[0m\n",
      "\u001b[1;32m~\\AppData\\Local\\Packages\\PythonSoftwareFoundation.Python.3.7_qbz5n2kfra8p0\\LocalCache\\local-packages\\Python37\\site-packages\\datasets\\arrow_dataset.py\u001b[0m in \u001b[0;36m_getitem\u001b[1;34m(self, key, decoded, **kwargs)\u001b[0m\n\u001b[0;32m   1909\u001b[0m         \u001b[0mpa_subtable\u001b[0m \u001b[1;33m=\u001b[0m \u001b[0mquery_table\u001b[0m\u001b[1;33m(\u001b[0m\u001b[0mself\u001b[0m\u001b[1;33m.\u001b[0m\u001b[0m_data\u001b[0m\u001b[1;33m,\u001b[0m \u001b[0mkey\u001b[0m\u001b[1;33m,\u001b[0m \u001b[0mindices\u001b[0m\u001b[1;33m=\u001b[0m\u001b[0mself\u001b[0m\u001b[1;33m.\u001b[0m\u001b[0m_indices\u001b[0m \u001b[1;32mif\u001b[0m \u001b[0mself\u001b[0m\u001b[1;33m.\u001b[0m\u001b[0m_indices\u001b[0m \u001b[1;32mis\u001b[0m \u001b[1;32mnot\u001b[0m \u001b[1;32mNone\u001b[0m \u001b[1;32melse\u001b[0m \u001b[1;32mNone\u001b[0m\u001b[1;33m)\u001b[0m\u001b[1;33m\u001b[0m\u001b[1;33m\u001b[0m\u001b[0m\n\u001b[0;32m   1910\u001b[0m         formatted_output = format_table(\n\u001b[1;32m-> 1911\u001b[1;33m             \u001b[0mpa_subtable\u001b[0m\u001b[1;33m,\u001b[0m \u001b[0mkey\u001b[0m\u001b[1;33m,\u001b[0m \u001b[0mformatter\u001b[0m\u001b[1;33m=\u001b[0m\u001b[0mformatter\u001b[0m\u001b[1;33m,\u001b[0m \u001b[0mformat_columns\u001b[0m\u001b[1;33m=\u001b[0m\u001b[0mformat_columns\u001b[0m\u001b[1;33m,\u001b[0m \u001b[0moutput_all_columns\u001b[0m\u001b[1;33m=\u001b[0m\u001b[0moutput_all_columns\u001b[0m\u001b[1;33m\u001b[0m\u001b[1;33m\u001b[0m\u001b[0m\n\u001b[0m\u001b[0;32m   1912\u001b[0m         )\n\u001b[0;32m   1913\u001b[0m         \u001b[1;32mreturn\u001b[0m \u001b[0mformatted_output\u001b[0m\u001b[1;33m\u001b[0m\u001b[1;33m\u001b[0m\u001b[0m\n",
      "\u001b[1;32m~\\AppData\\Local\\Packages\\PythonSoftwareFoundation.Python.3.7_qbz5n2kfra8p0\\LocalCache\\local-packages\\Python37\\site-packages\\datasets\\formatting\\formatting.py\u001b[0m in \u001b[0;36mformat_table\u001b[1;34m(table, key, formatter, format_columns, output_all_columns)\u001b[0m\n\u001b[0;32m    530\u001b[0m     \u001b[0mpython_formatter\u001b[0m \u001b[1;33m=\u001b[0m \u001b[0mPythonFormatter\u001b[0m\u001b[1;33m(\u001b[0m\u001b[0mfeatures\u001b[0m\u001b[1;33m=\u001b[0m\u001b[1;32mNone\u001b[0m\u001b[1;33m)\u001b[0m\u001b[1;33m\u001b[0m\u001b[1;33m\u001b[0m\u001b[0m\n\u001b[0;32m    531\u001b[0m     \u001b[1;32mif\u001b[0m \u001b[0mformat_columns\u001b[0m \u001b[1;32mis\u001b[0m \u001b[1;32mNone\u001b[0m\u001b[1;33m:\u001b[0m\u001b[1;33m\u001b[0m\u001b[1;33m\u001b[0m\u001b[0m\n\u001b[1;32m--> 532\u001b[1;33m         \u001b[1;32mreturn\u001b[0m \u001b[0mformatter\u001b[0m\u001b[1;33m(\u001b[0m\u001b[0mpa_table\u001b[0m\u001b[1;33m,\u001b[0m \u001b[0mquery_type\u001b[0m\u001b[1;33m=\u001b[0m\u001b[0mquery_type\u001b[0m\u001b[1;33m)\u001b[0m\u001b[1;33m\u001b[0m\u001b[1;33m\u001b[0m\u001b[0m\n\u001b[0m\u001b[0;32m    533\u001b[0m     \u001b[1;32melif\u001b[0m \u001b[0mquery_type\u001b[0m \u001b[1;33m==\u001b[0m \u001b[1;34m\"column\"\u001b[0m\u001b[1;33m:\u001b[0m\u001b[1;33m\u001b[0m\u001b[1;33m\u001b[0m\u001b[0m\n\u001b[0;32m    534\u001b[0m         \u001b[1;32mif\u001b[0m \u001b[0mkey\u001b[0m \u001b[1;32min\u001b[0m \u001b[0mformat_columns\u001b[0m\u001b[1;33m:\u001b[0m\u001b[1;33m\u001b[0m\u001b[1;33m\u001b[0m\u001b[0m\n",
      "\u001b[1;32m~\\AppData\\Local\\Packages\\PythonSoftwareFoundation.Python.3.7_qbz5n2kfra8p0\\LocalCache\\local-packages\\Python37\\site-packages\\datasets\\formatting\\formatting.py\u001b[0m in \u001b[0;36m__call__\u001b[1;34m(self, pa_table, query_type)\u001b[0m\n\u001b[0;32m    279\u001b[0m     \u001b[1;32mdef\u001b[0m \u001b[0m__call__\u001b[0m\u001b[1;33m(\u001b[0m\u001b[0mself\u001b[0m\u001b[1;33m,\u001b[0m \u001b[0mpa_table\u001b[0m\u001b[1;33m:\u001b[0m \u001b[0mpa\u001b[0m\u001b[1;33m.\u001b[0m\u001b[0mTable\u001b[0m\u001b[1;33m,\u001b[0m \u001b[0mquery_type\u001b[0m\u001b[1;33m:\u001b[0m \u001b[0mstr\u001b[0m\u001b[1;33m)\u001b[0m \u001b[1;33m->\u001b[0m \u001b[0mUnion\u001b[0m\u001b[1;33m[\u001b[0m\u001b[0mRowFormat\u001b[0m\u001b[1;33m,\u001b[0m \u001b[0mColumnFormat\u001b[0m\u001b[1;33m,\u001b[0m \u001b[0mBatchFormat\u001b[0m\u001b[1;33m]\u001b[0m\u001b[1;33m:\u001b[0m\u001b[1;33m\u001b[0m\u001b[1;33m\u001b[0m\u001b[0m\n\u001b[0;32m    280\u001b[0m         \u001b[1;32mif\u001b[0m \u001b[0mquery_type\u001b[0m \u001b[1;33m==\u001b[0m \u001b[1;34m\"row\"\u001b[0m\u001b[1;33m:\u001b[0m\u001b[1;33m\u001b[0m\u001b[1;33m\u001b[0m\u001b[0m\n\u001b[1;32m--> 281\u001b[1;33m             \u001b[1;32mreturn\u001b[0m \u001b[0mself\u001b[0m\u001b[1;33m.\u001b[0m\u001b[0mformat_row\u001b[0m\u001b[1;33m(\u001b[0m\u001b[0mpa_table\u001b[0m\u001b[1;33m)\u001b[0m\u001b[1;33m\u001b[0m\u001b[1;33m\u001b[0m\u001b[0m\n\u001b[0m\u001b[0;32m    282\u001b[0m         \u001b[1;32melif\u001b[0m \u001b[0mquery_type\u001b[0m \u001b[1;33m==\u001b[0m \u001b[1;34m\"column\"\u001b[0m\u001b[1;33m:\u001b[0m\u001b[1;33m\u001b[0m\u001b[1;33m\u001b[0m\u001b[0m\n\u001b[0;32m    283\u001b[0m             \u001b[1;32mreturn\u001b[0m \u001b[0mself\u001b[0m\u001b[1;33m.\u001b[0m\u001b[0mformat_column\u001b[0m\u001b[1;33m(\u001b[0m\u001b[0mpa_table\u001b[0m\u001b[1;33m)\u001b[0m\u001b[1;33m\u001b[0m\u001b[1;33m\u001b[0m\u001b[0m\n",
      "\u001b[1;32m~\\AppData\\Local\\Packages\\PythonSoftwareFoundation.Python.3.7_qbz5n2kfra8p0\\LocalCache\\local-packages\\Python37\\site-packages\\datasets\\formatting\\formatting.py\u001b[0m in \u001b[0;36mformat_row\u001b[1;34m(self, pa_table)\u001b[0m\n\u001b[0;32m    308\u001b[0m \u001b[1;32mclass\u001b[0m \u001b[0mPythonFormatter\u001b[0m\u001b[1;33m(\u001b[0m\u001b[0mFormatter\u001b[0m\u001b[1;33m[\u001b[0m\u001b[0mdict\u001b[0m\u001b[1;33m,\u001b[0m \u001b[0mlist\u001b[0m\u001b[1;33m,\u001b[0m \u001b[0mdict\u001b[0m\u001b[1;33m]\u001b[0m\u001b[1;33m)\u001b[0m\u001b[1;33m:\u001b[0m\u001b[1;33m\u001b[0m\u001b[1;33m\u001b[0m\u001b[0m\n\u001b[0;32m    309\u001b[0m     \u001b[1;32mdef\u001b[0m \u001b[0mformat_row\u001b[0m\u001b[1;33m(\u001b[0m\u001b[0mself\u001b[0m\u001b[1;33m,\u001b[0m \u001b[0mpa_table\u001b[0m\u001b[1;33m:\u001b[0m \u001b[0mpa\u001b[0m\u001b[1;33m.\u001b[0m\u001b[0mTable\u001b[0m\u001b[1;33m)\u001b[0m \u001b[1;33m->\u001b[0m \u001b[0mdict\u001b[0m\u001b[1;33m:\u001b[0m\u001b[1;33m\u001b[0m\u001b[1;33m\u001b[0m\u001b[0m\n\u001b[1;32m--> 310\u001b[1;33m         \u001b[0mrow\u001b[0m \u001b[1;33m=\u001b[0m \u001b[0mself\u001b[0m\u001b[1;33m.\u001b[0m\u001b[0mpython_arrow_extractor\u001b[0m\u001b[1;33m(\u001b[0m\u001b[1;33m)\u001b[0m\u001b[1;33m.\u001b[0m\u001b[0mextract_row\u001b[0m\u001b[1;33m(\u001b[0m\u001b[0mpa_table\u001b[0m\u001b[1;33m)\u001b[0m\u001b[1;33m\u001b[0m\u001b[1;33m\u001b[0m\u001b[0m\n\u001b[0m\u001b[0;32m    311\u001b[0m         \u001b[1;32mif\u001b[0m \u001b[0mself\u001b[0m\u001b[1;33m.\u001b[0m\u001b[0mdecoded\u001b[0m\u001b[1;33m:\u001b[0m\u001b[1;33m\u001b[0m\u001b[1;33m\u001b[0m\u001b[0m\n\u001b[0;32m    312\u001b[0m             \u001b[0mrow\u001b[0m \u001b[1;33m=\u001b[0m \u001b[0mself\u001b[0m\u001b[1;33m.\u001b[0m\u001b[0mpython_features_decoder\u001b[0m\u001b[1;33m.\u001b[0m\u001b[0mdecode_row\u001b[0m\u001b[1;33m(\u001b[0m\u001b[0mrow\u001b[0m\u001b[1;33m)\u001b[0m\u001b[1;33m\u001b[0m\u001b[1;33m\u001b[0m\u001b[0m\n",
      "\u001b[1;32m~\\AppData\\Local\\Packages\\PythonSoftwareFoundation.Python.3.7_qbz5n2kfra8p0\\LocalCache\\local-packages\\Python37\\site-packages\\datasets\\formatting\\formatting.py\u001b[0m in \u001b[0;36mextract_row\u001b[1;34m(self, pa_table)\u001b[0m\n\u001b[0;32m    138\u001b[0m \u001b[1;32mclass\u001b[0m \u001b[0mPythonArrowExtractor\u001b[0m\u001b[1;33m(\u001b[0m\u001b[0mBaseArrowExtractor\u001b[0m\u001b[1;33m[\u001b[0m\u001b[0mdict\u001b[0m\u001b[1;33m,\u001b[0m \u001b[0mlist\u001b[0m\u001b[1;33m,\u001b[0m \u001b[0mdict\u001b[0m\u001b[1;33m]\u001b[0m\u001b[1;33m)\u001b[0m\u001b[1;33m:\u001b[0m\u001b[1;33m\u001b[0m\u001b[1;33m\u001b[0m\u001b[0m\n\u001b[0;32m    139\u001b[0m     \u001b[1;32mdef\u001b[0m \u001b[0mextract_row\u001b[0m\u001b[1;33m(\u001b[0m\u001b[0mself\u001b[0m\u001b[1;33m,\u001b[0m \u001b[0mpa_table\u001b[0m\u001b[1;33m:\u001b[0m \u001b[0mpa\u001b[0m\u001b[1;33m.\u001b[0m\u001b[0mTable\u001b[0m\u001b[1;33m)\u001b[0m \u001b[1;33m->\u001b[0m \u001b[0mdict\u001b[0m\u001b[1;33m:\u001b[0m\u001b[1;33m\u001b[0m\u001b[1;33m\u001b[0m\u001b[0m\n\u001b[1;32m--> 140\u001b[1;33m         \u001b[1;32mreturn\u001b[0m \u001b[0m_unnest\u001b[0m\u001b[1;33m(\u001b[0m\u001b[0mpa_table\u001b[0m\u001b[1;33m.\u001b[0m\u001b[0mto_pydict\u001b[0m\u001b[1;33m(\u001b[0m\u001b[1;33m)\u001b[0m\u001b[1;33m)\u001b[0m\u001b[1;33m\u001b[0m\u001b[1;33m\u001b[0m\u001b[0m\n\u001b[0m\u001b[0;32m    141\u001b[0m \u001b[1;33m\u001b[0m\u001b[0m\n\u001b[0;32m    142\u001b[0m     \u001b[1;32mdef\u001b[0m \u001b[0mextract_column\u001b[0m\u001b[1;33m(\u001b[0m\u001b[0mself\u001b[0m\u001b[1;33m,\u001b[0m \u001b[0mpa_table\u001b[0m\u001b[1;33m:\u001b[0m \u001b[0mpa\u001b[0m\u001b[1;33m.\u001b[0m\u001b[0mTable\u001b[0m\u001b[1;33m)\u001b[0m \u001b[1;33m->\u001b[0m \u001b[0mlist\u001b[0m\u001b[1;33m:\u001b[0m\u001b[1;33m\u001b[0m\u001b[1;33m\u001b[0m\u001b[0m\n",
      "\u001b[1;32m~\\AppData\\Local\\Packages\\PythonSoftwareFoundation.Python.3.7_qbz5n2kfra8p0\\LocalCache\\local-packages\\Python37\\site-packages\\datasets\\formatting\\formatting.py\u001b[0m in \u001b[0;36m_unnest\u001b[1;34m(py_dict)\u001b[0m\n\u001b[0;32m    120\u001b[0m \u001b[1;33m\u001b[0m\u001b[0m\n\u001b[0;32m    121\u001b[0m \u001b[1;33m\u001b[0m\u001b[0m\n\u001b[1;32m--> 122\u001b[1;33m \u001b[1;32mdef\u001b[0m \u001b[0m_unnest\u001b[0m\u001b[1;33m(\u001b[0m\u001b[0mpy_dict\u001b[0m\u001b[1;33m:\u001b[0m \u001b[0mDict\u001b[0m\u001b[1;33m[\u001b[0m\u001b[0mstr\u001b[0m\u001b[1;33m,\u001b[0m \u001b[0mList\u001b[0m\u001b[1;33m[\u001b[0m\u001b[0mT\u001b[0m\u001b[1;33m]\u001b[0m\u001b[1;33m]\u001b[0m\u001b[1;33m)\u001b[0m \u001b[1;33m->\u001b[0m \u001b[0mDict\u001b[0m\u001b[1;33m[\u001b[0m\u001b[0mstr\u001b[0m\u001b[1;33m,\u001b[0m \u001b[0mT\u001b[0m\u001b[1;33m]\u001b[0m\u001b[1;33m:\u001b[0m\u001b[1;33m\u001b[0m\u001b[1;33m\u001b[0m\u001b[0m\n\u001b[0m\u001b[0;32m    123\u001b[0m     \u001b[1;34m\"\"\"Return the first element of a batch (dict) as a row (dict)\"\"\"\u001b[0m\u001b[1;33m\u001b[0m\u001b[1;33m\u001b[0m\u001b[0m\n\u001b[0;32m    124\u001b[0m     \u001b[1;32mreturn\u001b[0m \u001b[1;33m{\u001b[0m\u001b[0mkey\u001b[0m\u001b[1;33m:\u001b[0m \u001b[0marray\u001b[0m\u001b[1;33m[\u001b[0m\u001b[1;36m0\u001b[0m\u001b[1;33m]\u001b[0m \u001b[1;32mfor\u001b[0m \u001b[0mkey\u001b[0m\u001b[1;33m,\u001b[0m \u001b[0marray\u001b[0m \u001b[1;32min\u001b[0m \u001b[0mpy_dict\u001b[0m\u001b[1;33m.\u001b[0m\u001b[0mitems\u001b[0m\u001b[1;33m(\u001b[0m\u001b[1;33m)\u001b[0m\u001b[1;33m}\u001b[0m\u001b[1;33m\u001b[0m\u001b[1;33m\u001b[0m\u001b[0m\n",
      "\u001b[1;31mKeyboardInterrupt\u001b[0m: "
     ]
    }
   ],
   "source": [
    "trainer.train()\n"
   ]
  },
  {
   "cell_type": "markdown",
   "metadata": {},
   "source": [
    "## Inference and Evaluation"
   ]
  },
  {
   "cell_type": "markdown",
   "metadata": {},
   "source": [
    "We load the test split, re-splitted from the official Common Voice in order to 1) avoid data leakage from random sampling done on the official splits and 2) increase training set size according to [ekapolc/Thai_commonvoice_split](https://github.com/ekapolc/Thai_commonvoice_split)."
   ]
  },
  {
   "cell_type": "code",
   "execution_count": null,
   "metadata": {},
   "outputs": [
    {
     "name": "stderr",
     "output_type": "stream",
     "text": [
      "Reusing dataset common_voice (/home/ec2-user/.cache/huggingface/datasets/common_voice/th/7.0.0/14bf435a174687b310ed94f56abf0198f6cc7efb5a5d945c22c83113eab67701)\n"
     ]
    },
    {
     "data": {
      "text/plain": [
       "Dataset({\n",
       "    features: ['path', 'sentence'],\n",
       "    num_rows: 2502\n",
       "})"
      ]
     },
     "execution_count": 4,
     "metadata": {},
     "output_type": "execute_result"
    }
   ],
   "source": [
    "test_dataset = load_dataset(\n",
    "    \"../scripts/th_common_voice_70.py\", \"th\", split=\"test\")\n",
    "test_dataset\n"
   ]
  },
  {
   "cell_type": "markdown",
   "metadata": {},
   "source": [
    "Load pretrained model and processor to process the test dataset."
   ]
  },
  {
   "cell_type": "code",
   "execution_count": null,
   "metadata": {},
   "outputs": [
    {
     "data": {
      "application/vnd.jupyter.widget-view+json": {
       "model_id": "80757d220924421aaf7d4d6fe8938b41",
       "version_major": 2,
       "version_minor": 0
      },
      "text/plain": [
       "Downloading:   0%|          | 0.00/215 [00:00<?, ?B/s]"
      ]
     },
     "metadata": {},
     "output_type": "display_data"
    },
    {
     "name": "stderr",
     "output_type": "stream",
     "text": [
      "Special tokens have been added in the vocabulary, make sure the associated word embeddings are fine-tuned or trained.\n"
     ]
    },
    {
     "data": {
      "application/vnd.jupyter.widget-view+json": {
       "model_id": "21e64489dcdc40f2958bd1da21588b3f",
       "version_major": 2,
       "version_minor": 0
      },
      "text/plain": [
       "Downloading:   0%|          | 0.00/1.84k [00:00<?, ?B/s]"
      ]
     },
     "metadata": {},
     "output_type": "display_data"
    },
    {
     "data": {
      "application/vnd.jupyter.widget-view+json": {
       "model_id": "6bb29d8bae5348058fbb648847a66c9f",
       "version_major": 2,
       "version_minor": 0
      },
      "text/plain": [
       "Downloading:   0%|          | 0.00/1.26G [00:00<?, ?B/s]"
      ]
     },
     "metadata": {},
     "output_type": "display_data"
    }
   ],
   "source": [
    "processor = Wav2Vec2Processor.from_pretrained(\n",
    "    \"airesearch/wav2vec2-large-xlsr-53-th\")\n",
    "model = Wav2Vec2ForCTC.from_pretrained(\"airesearch/wav2vec2-large-xlsr-53-th\")\n"
   ]
  },
  {
   "cell_type": "code",
   "execution_count": null,
   "metadata": {},
   "outputs": [
    {
     "data": {
      "application/vnd.jupyter.widget-view+json": {
       "model_id": "8982dbdfb17f49b5b93039cf3d58efb2",
       "version_major": 2,
       "version_minor": 0
      },
      "text/plain": [
       "  0%|          | 0/2502 [00:00<?, ?ex/s]"
      ]
     },
     "metadata": {},
     "output_type": "display_data"
    }
   ],
   "source": [
    "def speech_file_to_array_fn(batch,\n",
    "                            text_col=\"sentence\",\n",
    "                            fname_col=\"path\",\n",
    "                            resampling_to=16000):\n",
    "    speech_array, sampling_rate = load_mp3(batch[fname_col])\n",
    "    resampler = torchaudio.transforms.Resample(sampling_rate, resampling_to)\n",
    "    batch[\"speech\"] = resampler(speech_array)[0].numpy()\n",
    "    batch[\"sampling_rate\"] = resampling_to\n",
    "    batch[\"target_text\"] = batch[text_col]\n",
    "    return batch\n",
    "\n",
    "\n",
    "test_dataset = test_dataset.map(speech_file_to_array_fn)\n",
    "inputs = processor(test_dataset[\"speech\"][:2],\n",
    "                   sampling_rate=16_000, return_tensors=\"pt\", padding=True)\n"
   ]
  },
  {
   "cell_type": "markdown",
   "metadata": {},
   "source": [
    "### Infer a few examples"
   ]
  },
  {
   "cell_type": "code",
   "execution_count": null,
   "metadata": {},
   "outputs": [
    {
     "name": "stdout",
     "output_type": "stream",
     "text": [
      "Prediction: ['และ เขา ก็ สัมผัส ดีบุก', 'คุณ สามารถ รับทราบ เมื่อ ข้อความ นี้ ถูก อ่าน แล้ว']\n",
      "Reference: ['และเขาก็สัมผัสดีบุก', 'คุณสามารถรับทราบเมื่อข้อความนี้ถูกอ่านแล้ว']\n"
     ]
    }
   ],
   "source": [
    "with torch.no_grad():\n",
    "    logits = model(inputs.input_values,).logits\n",
    "\n",
    "predicted_ids = torch.argmax(logits, dim=-1)\n",
    "\n",
    "print(\"Prediction:\", processor.batch_decode(predicted_ids))\n",
    "print(\"Reference:\", test_dataset[\"sentence\"][:2])\n"
   ]
  },
  {
   "cell_type": "markdown",
   "metadata": {},
   "source": [
    "### Evaluate on test set"
   ]
  },
  {
   "cell_type": "markdown",
   "metadata": {},
   "source": [
    "We evaluate the test set on WER with PyThaiNLP 2.3.1 word boundaries and CER without spaces."
   ]
  },
  {
   "cell_type": "code",
   "execution_count": null,
   "metadata": {},
   "outputs": [],
   "source": [
    "def evaluate(batch):\n",
    "    device = \"cuda\" if torch.cuda.is_available() else \"cpu\"\n",
    "    inputs = processor(batch[\"speech\"], sampling_rate=16_000,\n",
    "                       return_tensors=\"pt\", padding=True)\n",
    "\n",
    "    with torch.no_grad():\n",
    "        logits = model(inputs.input_values.to(device),).logits\n",
    "\n",
    "    pred_ids = torch.argmax(logits, dim=-1)\n",
    "    batch[\"pred_sentence\"] = processor.batch_decode(pred_ids)\n",
    "    return batch\n",
    "\n",
    "\n",
    "wer_metric = load_metric(\"wer\")\n",
    "cer_metric = load_metric(\"cer\")\n"
   ]
  },
  {
   "cell_type": "code",
   "execution_count": null,
   "metadata": {},
   "outputs": [],
   "source": [
    "# result = test_dataset.map(evaluate, batched=True, batch_size=8)\n",
    "# result_df = pd.DataFrame({'sentence':result['sentence'].replace(' ',''),\n",
    "#                            'pred_sentence_tok': result['pred_sentence'].replace(' ','')})\n",
    "# result_df['sentence_tok'] = result_df.sentence.map(lambda x: ' '.join(word_tokenize(x)))\n",
    "# result_df['pred_sentence'] = result_df.pred_sentence_tok.map(lambda x: ''.join(x.split()))\n",
    "# #change tokenization to fit pythainlp tokenization\n",
    "# result_df['pred_sentence_tok'] = result_df.pred_sentence.map(lambda x: ' '.join(word_tokenize(x)))\n",
    "\n",
    "# from pythainlp.spell import spell_sent\n",
    "\n",
    "# result_df['pred_sentence_tok_corrected'] = result_df['pred_sentence_tok']\\\n",
    "#     .map(lambda x: ' '.join(spell_sent(x.split(), engine='sympellpy')[0]))\n",
    "# result_df['pred_sentence_corrected'] = result_df['pred_sentence_tok_corrected']\\\n",
    "#     .map(lambda x: ''.join(x.split()))\n",
    "# result_df['pred_sentence_tok_corrected'] = result_df.pred_sentence_corrected.map(lambda x: ' '.join(word_tokenize(x)))\n",
    "\n",
    "# result_df.to_csv('artifacts/result_cv70.csv',index=False)\n"
   ]
  },
  {
   "cell_type": "code",
   "execution_count": null,
   "metadata": {},
   "outputs": [
    {
     "data": {
      "text/html": [
       "<div>\n",
       "<style scoped>\n",
       "    .dataframe tbody tr th:only-of-type {\n",
       "        vertical-align: middle;\n",
       "    }\n",
       "\n",
       "    .dataframe tbody tr th {\n",
       "        vertical-align: top;\n",
       "    }\n",
       "\n",
       "    .dataframe thead th {\n",
       "        text-align: right;\n",
       "    }\n",
       "</style>\n",
       "<table border=\"1\" class=\"dataframe\">\n",
       "  <thead>\n",
       "    <tr style=\"text-align: right;\">\n",
       "      <th></th>\n",
       "      <th>sentence</th>\n",
       "      <th>pred_sentence_tok</th>\n",
       "      <th>sentence_tok</th>\n",
       "      <th>pred_sentence</th>\n",
       "      <th>pred_sentence_tok_corrected</th>\n",
       "      <th>pred_sentence_corrected</th>\n",
       "    </tr>\n",
       "  </thead>\n",
       "  <tbody>\n",
       "    <tr>\n",
       "      <th>0</th>\n",
       "      <td>และเขาก็สัมผัสดีบุก</td>\n",
       "      <td>และ เขา ก็ สัมผัส ดีบุก</td>\n",
       "      <td>และ เขา ก็ สัมผัส ดีบุก</td>\n",
       "      <td>และเขาก็สัมผัสดีบุก</td>\n",
       "      <td>และ เขา ก็ สัมผัส ดีบุก</td>\n",
       "      <td>และเขาก็สัมผัสดีบุก</td>\n",
       "    </tr>\n",
       "    <tr>\n",
       "      <th>1</th>\n",
       "      <td>คุณสามารถรับทราบเมื่อข้อความนี้ถูกอ่านแล้ว</td>\n",
       "      <td>คุณ สามารถ รับทราบ เมื่อ ป้อ ความ นี้ ถูก อ่าน...</td>\n",
       "      <td>คุณ สามารถ รับทราบ เมื่อ ข้อความ นี้ ถูก อ่าน ...</td>\n",
       "      <td>คุณสามารถรับทราบเมื่อป้อความนี้ถูกอ่านแล้ว</td>\n",
       "      <td>คุณ สามารถ รับทราบ เมื่อ ข้อความ นี้ ถูก อ่าน ...</td>\n",
       "      <td>คุณสามารถรับทราบเมื่อข้อความนี้ถูกอ่านแล้ว</td>\n",
       "    </tr>\n",
       "    <tr>\n",
       "      <th>2</th>\n",
       "      <td>คืนนี้ฉันต้องทำให้ได้เธอพูดกับตัวเองฉันต้องทำใ...</td>\n",
       "      <td>คืนนี้ ฉัน ต้อง ทำ ให้ได้ เธอ พูด กับ ตัวเอง ฉ...</td>\n",
       "      <td>คืนนี้ ฉัน ต้อง ทำ ให้ได้ เธอ พูด กับ ตัวเอง ฉ...</td>\n",
       "      <td>คืนนี้ฉันต้องทำให้ได้เธอพูดกับตัวเองฉันต้องทำใ...</td>\n",
       "      <td>วันนี้ ฉัน ต้อง ทำให้ได้ เธอ พูด กับ ตัวเอง ฉั...</td>\n",
       "      <td>วันนี้ฉันต้องทำให้ได้เธอพูดกับตัวเองฉันต้องทำใ...</td>\n",
       "    </tr>\n",
       "    <tr>\n",
       "      <th>3</th>\n",
       "      <td>การทำเช่นนี้จะทำให้แผ่นถ่ายภาพเกิดแสงฟลูออเรสเ...</td>\n",
       "      <td>การ ทำ เช่นนี้ จะ ทำให้ แผ่น ถ่ายภาพ เกิด แสง ...</td>\n",
       "      <td>การ ทำ เช่นนี้ จะ ทำให้ แผ่น ถ่ายภาพ เกิด แสง ...</td>\n",
       "      <td>การทำเช่นนี้จะทำให้แผ่นถ่ายภาพเกิดแสงปัวอเรสเซนซ์</td>\n",
       "      <td>การ ทำ เช่นนี้ จะ ทำให้ แผ่น ถ่ายภาพ เกิด แสง ...</td>\n",
       "      <td>การทำเช่นนี้จะทำให้แผ่นถ่ายภาพเกิดแสงปัวขอเรสเ...</td>\n",
       "    </tr>\n",
       "    <tr>\n",
       "      <th>4</th>\n",
       "      <td>ผู้ปกครองของฉันไม่สนใจความเห็นนี้อย่างละเอียดอ...</td>\n",
       "      <td>ผู้ปกครอง ของ ฉัน ไม่ สนใจ ความเห็น นี้ อย่าง ...</td>\n",
       "      <td>ผู้ปกครอง ของ ฉัน ไม่ สนใจ ความเห็น นี้ อย่าง ...</td>\n",
       "      <td>ผู้ปกครองของฉันไม่สนใจความเห็นนี้อย่างละเอียดอ...</td>\n",
       "      <td>ผู้ปกครอง ของ ฉัน ไม่ สนใจ ความเร็ว นี้ อย่าง ...</td>\n",
       "      <td>ผู้ปกครองของฉันไม่สนใจความเร็วนี้อย่างละเอียดอ...</td>\n",
       "    </tr>\n",
       "    <tr>\n",
       "      <th>...</th>\n",
       "      <td>...</td>\n",
       "      <td>...</td>\n",
       "      <td>...</td>\n",
       "      <td>...</td>\n",
       "      <td>...</td>\n",
       "      <td>...</td>\n",
       "    </tr>\n",
       "    <tr>\n",
       "      <th>2497</th>\n",
       "      <td>ใครสนใจไปเรียนได้ฟรีวันละชั่วโมงสัปดาห์เดียวก็จบ</td>\n",
       "      <td>ใคร สนใจ ไป เลียน ได้ ฟรี วัน ละ ชั่วโมง สัปดา...</td>\n",
       "      <td>ใคร สนใจ ไป เรียน ได้ ฟรี วัน ละ ชั่วโมง สัปดา...</td>\n",
       "      <td>ใครสนใจไปเลียนได้ฟรีวันละชั่วโมงสัปดาห์เดียวก็จบ</td>\n",
       "      <td>ใคร สนใจ ไป เลียน ได้ ฟรี วัน ละ ชั่วโมง สัปดา...</td>\n",
       "      <td>ใครสนใจไปเลียนได้ฟรีวันละชั่วโมงสัปดาห์เดียวก็จบ</td>\n",
       "    </tr>\n",
       "    <tr>\n",
       "      <th>2498</th>\n",
       "      <td>หรือในกรณีตั้งครรภ์เมื่ออายุเกิน</td>\n",
       "      <td>หรือ ใน กรณี ตั้งครรภ์ เมื่อ อายุ เกิน</td>\n",
       "      <td>หรือ ใน กรณี ตั้งครรภ์ เมื่อ อายุ เกิน</td>\n",
       "      <td>หรือในกรณีตั้งครรภ์เมื่ออายุเกิน</td>\n",
       "      <td>หรือ ใน กรณี ตั้งครรภ์ เมื่อ อายุ เกิน</td>\n",
       "      <td>หรือในกรณีตั้งครรภ์เมื่ออายุเกิน</td>\n",
       "    </tr>\n",
       "    <tr>\n",
       "      <th>2499</th>\n",
       "      <td>ก่อนสเต็ปนั้น</td>\n",
       "      <td>ก่อน จะ เต็จ นั้น</td>\n",
       "      <td>ก่อน สเต็ป นั้น</td>\n",
       "      <td>ก่อนจะเต็จนั้น</td>\n",
       "      <td>ก่อน จะ เต็ม นั้น</td>\n",
       "      <td>ก่อนจะเต็มนั้น</td>\n",
       "    </tr>\n",
       "    <tr>\n",
       "      <th>2500</th>\n",
       "      <td>ถ้าจะแบนมันต้องชัดว่าคำพูดจะนำไปสู่เหตุการณ์พว...</td>\n",
       "      <td>ถ้า จะ แบน มัน ต้อง ชัด ว่า คำพูด จะ นำไปสู่ เ...</td>\n",
       "      <td>ถ้า จะ แบน มัน ต้อง ชัด ว่า คำพูด จะ นำไปสู่ เ...</td>\n",
       "      <td>ถ้าจะแบนมันต้องชัดว่าคำพูดจะนำไปสู่เหตุการณ์พว...</td>\n",
       "      <td>ถ้า จะ แบน มัน ต้อง ชัด ว่า คำพูด จะ นำไปสู่ เ...</td>\n",
       "      <td>ถ้าจะแบนมันต้องชัดว่าคำพูดจะนำไปสู่เหตุการณ์พว...</td>\n",
       "    </tr>\n",
       "    <tr>\n",
       "      <th>2501</th>\n",
       "      <td>เขาก็เปิดดังเท่ากันน่ะ</td>\n",
       "      <td>เขา ก็ เปิด ดัง เท่ากัน น่ะ</td>\n",
       "      <td>เขา ก็ เปิด ดัง เท่ากัน น่ะ</td>\n",
       "      <td>เขาก็เปิดดังเท่ากันน่ะ</td>\n",
       "      <td>เขา ก็ เปิด ดัง เท่า กัน น่ะ</td>\n",
       "      <td>เขาก็เปิดดังเท่ากันน่ะ</td>\n",
       "    </tr>\n",
       "  </tbody>\n",
       "</table>\n",
       "<p>2502 rows × 6 columns</p>\n",
       "</div>"
      ],
      "text/plain": [
       "                                               sentence  \\\n",
       "0                                   และเขาก็สัมผัสดีบุก   \n",
       "1            คุณสามารถรับทราบเมื่อข้อความนี้ถูกอ่านแล้ว   \n",
       "2     คืนนี้ฉันต้องทำให้ได้เธอพูดกับตัวเองฉันต้องทำใ...   \n",
       "3     การทำเช่นนี้จะทำให้แผ่นถ่ายภาพเกิดแสงฟลูออเรสเ...   \n",
       "4     ผู้ปกครองของฉันไม่สนใจความเห็นนี้อย่างละเอียดอ...   \n",
       "...                                                 ...   \n",
       "2497   ใครสนใจไปเรียนได้ฟรีวันละชั่วโมงสัปดาห์เดียวก็จบ   \n",
       "2498                   หรือในกรณีตั้งครรภ์เมื่ออายุเกิน   \n",
       "2499                                      ก่อนสเต็ปนั้น   \n",
       "2500  ถ้าจะแบนมันต้องชัดว่าคำพูดจะนำไปสู่เหตุการณ์พว...   \n",
       "2501                             เขาก็เปิดดังเท่ากันน่ะ   \n",
       "\n",
       "                                      pred_sentence_tok  \\\n",
       "0                               และ เขา ก็ สัมผัส ดีบุก   \n",
       "1     คุณ สามารถ รับทราบ เมื่อ ป้อ ความ นี้ ถูก อ่าน...   \n",
       "2     คืนนี้ ฉัน ต้อง ทำ ให้ได้ เธอ พูด กับ ตัวเอง ฉ...   \n",
       "3     การ ทำ เช่นนี้ จะ ทำให้ แผ่น ถ่ายภาพ เกิด แสง ...   \n",
       "4     ผู้ปกครอง ของ ฉัน ไม่ สนใจ ความเห็น นี้ อย่าง ...   \n",
       "...                                                 ...   \n",
       "2497  ใคร สนใจ ไป เลียน ได้ ฟรี วัน ละ ชั่วโมง สัปดา...   \n",
       "2498             หรือ ใน กรณี ตั้งครรภ์ เมื่อ อายุ เกิน   \n",
       "2499                                  ก่อน จะ เต็จ นั้น   \n",
       "2500  ถ้า จะ แบน มัน ต้อง ชัด ว่า คำพูด จะ นำไปสู่ เ...   \n",
       "2501                        เขา ก็ เปิด ดัง เท่ากัน น่ะ   \n",
       "\n",
       "                                           sentence_tok  \\\n",
       "0                               และ เขา ก็ สัมผัส ดีบุก   \n",
       "1     คุณ สามารถ รับทราบ เมื่อ ข้อความ นี้ ถูก อ่าน ...   \n",
       "2     คืนนี้ ฉัน ต้อง ทำ ให้ได้ เธอ พูด กับ ตัวเอง ฉ...   \n",
       "3     การ ทำ เช่นนี้ จะ ทำให้ แผ่น ถ่ายภาพ เกิด แสง ...   \n",
       "4     ผู้ปกครอง ของ ฉัน ไม่ สนใจ ความเห็น นี้ อย่าง ...   \n",
       "...                                                 ...   \n",
       "2497  ใคร สนใจ ไป เรียน ได้ ฟรี วัน ละ ชั่วโมง สัปดา...   \n",
       "2498             หรือ ใน กรณี ตั้งครรภ์ เมื่อ อายุ เกิน   \n",
       "2499                                    ก่อน สเต็ป นั้น   \n",
       "2500  ถ้า จะ แบน มัน ต้อง ชัด ว่า คำพูด จะ นำไปสู่ เ...   \n",
       "2501                        เขา ก็ เปิด ดัง เท่ากัน น่ะ   \n",
       "\n",
       "                                          pred_sentence  \\\n",
       "0                                   และเขาก็สัมผัสดีบุก   \n",
       "1            คุณสามารถรับทราบเมื่อป้อความนี้ถูกอ่านแล้ว   \n",
       "2     คืนนี้ฉันต้องทำให้ได้เธอพูดกับตัวเองฉันต้องทำใ...   \n",
       "3     การทำเช่นนี้จะทำให้แผ่นถ่ายภาพเกิดแสงปัวอเรสเซนซ์   \n",
       "4     ผู้ปกครองของฉันไม่สนใจความเห็นนี้อย่างละเอียดอ...   \n",
       "...                                                 ...   \n",
       "2497   ใครสนใจไปเลียนได้ฟรีวันละชั่วโมงสัปดาห์เดียวก็จบ   \n",
       "2498                   หรือในกรณีตั้งครรภ์เมื่ออายุเกิน   \n",
       "2499                                     ก่อนจะเต็จนั้น   \n",
       "2500  ถ้าจะแบนมันต้องชัดว่าคำพูดจะนำไปสู่เหตุการณ์พว...   \n",
       "2501                             เขาก็เปิดดังเท่ากันน่ะ   \n",
       "\n",
       "                            pred_sentence_tok_corrected  \\\n",
       "0                               และ เขา ก็ สัมผัส ดีบุก   \n",
       "1     คุณ สามารถ รับทราบ เมื่อ ข้อความ นี้ ถูก อ่าน ...   \n",
       "2     วันนี้ ฉัน ต้อง ทำให้ได้ เธอ พูด กับ ตัวเอง ฉั...   \n",
       "3     การ ทำ เช่นนี้ จะ ทำให้ แผ่น ถ่ายภาพ เกิด แสง ...   \n",
       "4     ผู้ปกครอง ของ ฉัน ไม่ สนใจ ความเร็ว นี้ อย่าง ...   \n",
       "...                                                 ...   \n",
       "2497  ใคร สนใจ ไป เลียน ได้ ฟรี วัน ละ ชั่วโมง สัปดา...   \n",
       "2498             หรือ ใน กรณี ตั้งครรภ์ เมื่อ อายุ เกิน   \n",
       "2499                                  ก่อน จะ เต็ม นั้น   \n",
       "2500  ถ้า จะ แบน มัน ต้อง ชัด ว่า คำพูด จะ นำไปสู่ เ...   \n",
       "2501                       เขา ก็ เปิด ดัง เท่า กัน น่ะ   \n",
       "\n",
       "                                pred_sentence_corrected  \n",
       "0                                   และเขาก็สัมผัสดีบุก  \n",
       "1            คุณสามารถรับทราบเมื่อข้อความนี้ถูกอ่านแล้ว  \n",
       "2     วันนี้ฉันต้องทำให้ได้เธอพูดกับตัวเองฉันต้องทำใ...  \n",
       "3     การทำเช่นนี้จะทำให้แผ่นถ่ายภาพเกิดแสงปัวขอเรสเ...  \n",
       "4     ผู้ปกครองของฉันไม่สนใจความเร็วนี้อย่างละเอียดอ...  \n",
       "...                                                 ...  \n",
       "2497   ใครสนใจไปเลียนได้ฟรีวันละชั่วโมงสัปดาห์เดียวก็จบ  \n",
       "2498                   หรือในกรณีตั้งครรภ์เมื่ออายุเกิน  \n",
       "2499                                     ก่อนจะเต็มนั้น  \n",
       "2500  ถ้าจะแบนมันต้องชัดว่าคำพูดจะนำไปสู่เหตุการณ์พว...  \n",
       "2501                             เขาก็เปิดดังเท่ากันน่ะ  \n",
       "\n",
       "[2502 rows x 6 columns]"
      ]
     },
     "execution_count": 25,
     "metadata": {},
     "output_type": "execute_result"
    }
   ],
   "source": [
    "result_df = pd.read_csv('artifacts/result_cv70.csv')\n",
    "result_df\n"
   ]
  },
  {
   "cell_type": "code",
   "execution_count": null,
   "metadata": {},
   "outputs": [
    {
     "data": {
      "text/plain": [
       "0.13634023935143483"
      ]
     },
     "execution_count": 26,
     "metadata": {},
     "output_type": "execute_result"
    }
   ],
   "source": [
    "# wer\n",
    "wer_metric.compute(predictions=result_df.pred_sentence_tok,\n",
    "                   references=result_df.sentence_tok)\n"
   ]
  },
  {
   "cell_type": "code",
   "execution_count": null,
   "metadata": {},
   "outputs": [
    {
     "data": {
      "text/plain": [
       "0.028130193905817176"
      ]
     },
     "execution_count": 27,
     "metadata": {},
     "output_type": "execute_result"
    }
   ],
   "source": [
    "# cer\n",
    "cer_metric.compute(predictions=result_df.pred_sentence,\n",
    "                   references=result_df.sentence)\n"
   ]
  },
  {
   "cell_type": "markdown",
   "metadata": {},
   "source": [
    "We can further improve by spell correction using n-grams from [TNC](http://www.arts.chula.ac.th/ling/tnc/)."
   ]
  },
  {
   "cell_type": "code",
   "execution_count": null,
   "metadata": {},
   "outputs": [],
   "source": [
    "# #install pre version of pythainlp to use; will be available in PyThaiNLP 3.0\n",
    "# %pip uninstall pythainlp --yes\n",
    "# %pip install --ignore-requires-python  https://github.com/PyThaiNLP/pythainlp/archive/dev.zip\n",
    "# %pip install symspellpy\n"
   ]
  },
  {
   "cell_type": "code",
   "execution_count": null,
   "metadata": {},
   "outputs": [],
   "source": [
    "from pythainlp.spell import spell_sent\n",
    "\n",
    "result_df['pred_sentence_tok_corrected'] = result_df['pred_sentence_tok']\\\n",
    "    .map(lambda x: ' '.join(spell_sent(x.split(), engine='sympellpy')[0]))\n",
    "result_df['pred_sentence_corrected'] = result_df['pred_sentence_tok_corrected']\\\n",
    "    .map(lambda x: ''.join(x.split()))\n",
    "result_df['pred_sentence_tok_corrected'] = result_df.pred_sentence_corrected.map(\n",
    "    lambda x: ' '.join(word_tokenize(x)))\n",
    "\n",
    "result_df\n"
   ]
  },
  {
   "cell_type": "code",
   "execution_count": null,
   "metadata": {},
   "outputs": [
    {
     "data": {
      "text/plain": [
       "0.1799639686012096"
      ]
     },
     "execution_count": 29,
     "metadata": {},
     "output_type": "execute_result"
    }
   ],
   "source": [
    "# wer\n",
    "wer_metric.compute(predictions=result_df.pred_sentence_tok_corrected,\n",
    "                   references=result_df.sentence_tok)\n"
   ]
  },
  {
   "cell_type": "code",
   "execution_count": null,
   "metadata": {},
   "outputs": [
    {
     "data": {
      "text/plain": [
       "0.05225761772853186"
      ]
     },
     "execution_count": 30,
     "metadata": {},
     "output_type": "execute_result"
    }
   ],
   "source": [
    "# cer\n",
    "cer_metric.compute(predictions=result_df.pred_sentence_corrected,\n",
    "                   references=result_df.sentence)\n"
   ]
  },
  {
   "cell_type": "code",
   "execution_count": null,
   "metadata": {},
   "outputs": [
    {
     "data": {
      "text/html": [
       "<div>\n",
       "<style scoped>\n",
       "    .dataframe tbody tr th:only-of-type {\n",
       "        vertical-align: middle;\n",
       "    }\n",
       "\n",
       "    .dataframe tbody tr th {\n",
       "        vertical-align: top;\n",
       "    }\n",
       "\n",
       "    .dataframe thead th {\n",
       "        text-align: right;\n",
       "    }\n",
       "</style>\n",
       "<table border=\"1\" class=\"dataframe\">\n",
       "  <thead>\n",
       "    <tr style=\"text-align: right;\">\n",
       "      <th></th>\n",
       "      <th>sentence</th>\n",
       "      <th>pred_sentence_tok</th>\n",
       "      <th>sentence_tok</th>\n",
       "      <th>pred_sentence</th>\n",
       "      <th>pred_sentence_tok_corrected</th>\n",
       "      <th>pred_sentence_corrected</th>\n",
       "    </tr>\n",
       "  </thead>\n",
       "  <tbody>\n",
       "    <tr>\n",
       "      <th>0</th>\n",
       "      <td>และเขาก็สัมผัสดีบุก</td>\n",
       "      <td>และ เขา ก็ สัมผัส ดีบุก</td>\n",
       "      <td>และ เขา ก็ สัมผัส ดีบุก</td>\n",
       "      <td>และเขาก็สัมผัสดีบุก</td>\n",
       "      <td>และ เขา ก็ สัมผัส ดีบุก</td>\n",
       "      <td>และเขาก็สัมผัสดีบุก</td>\n",
       "    </tr>\n",
       "    <tr>\n",
       "      <th>1</th>\n",
       "      <td>คุณสามารถรับทราบเมื่อข้อความนี้ถูกอ่านแล้ว</td>\n",
       "      <td>คุณ สามารถ รับทราบ เมื่อ ป้อความ นี้ ถูก อ่าน ...</td>\n",
       "      <td>คุณ สามารถ รับทราบ เมื่อ ข้อความ นี้ ถูก อ่าน ...</td>\n",
       "      <td>คุณสามารถรับทราบเมื่อป้อความนี้ถูกอ่านแล้ว</td>\n",
       "      <td>คุณ สามารถ รับทราบ เมื่อ ข้อความ นี้ ถูก อ่าน ...</td>\n",
       "      <td>คุณสามารถรับทราบเมื่อข้อความนี้ถูกอ่านแล้ว</td>\n",
       "    </tr>\n",
       "    <tr>\n",
       "      <th>2</th>\n",
       "      <td>คืนนี้ฉันต้องทำให้ได้ เธอพูดกับตัวเอง ฉันต้องท...</td>\n",
       "      <td>คืนนี้ ฉัน ต้อง ทำให้ได้   เธอ พูด กับ ตัวเอง ...</td>\n",
       "      <td>คืนนี้ ฉัน ต้อง ทำ ให้ได้   เธอ พูด กับ ตัวเอง...</td>\n",
       "      <td>คืนนี้ฉันต้องทำให้ได้เธอพูดกับตัวเองฉันต้องทำใ...</td>\n",
       "      <td>วันนี้ ฉัน ต้อง ทำให้ได้ เธอ พูด กับ ตัวเอง ฉั...</td>\n",
       "      <td>วันนี้ฉันต้องทำให้ได้เธอพูดกับตัวเองฉันต้องทำใ...</td>\n",
       "    </tr>\n",
       "    <tr>\n",
       "      <th>3</th>\n",
       "      <td>การทำเช่นนี้จะทำให้แผ่นถ่ายภาพเกิดแสงฟลูออเรสเ...</td>\n",
       "      <td>การ ทำ เช่นนี้ จะ ทำให้ แผ่น ถ่ายภาพ เกิด แสง ...</td>\n",
       "      <td>การ ทำ เช่นนี้ จะ ทำให้ แผ่น ถ่ายภาพ เกิด แสง ...</td>\n",
       "      <td>การทำเช่นนี้จะทำให้แผ่นถ่ายภาพเกิดแสงปัวอเรสเซนซ์</td>\n",
       "      <td>การ ทำ เช่นนี้ จะ ทำให้ แผ่น ถ่ายภาพ เกิด แสง ...</td>\n",
       "      <td>การทำเช่นนี้จะทำให้แผ่นถ่ายภาพเกิดแสงปัวขอเรสเ...</td>\n",
       "    </tr>\n",
       "    <tr>\n",
       "      <th>4</th>\n",
       "      <td>ผู้ปกครองของฉันไม่สนใจความเห็นนี้อย่างละเอียดอ...</td>\n",
       "      <td>ผู้ปกครอง ของ ฉัน ไม่ สนใจ ความเห็น นี้ อย่าง ...</td>\n",
       "      <td>ผู้ปกครอง ของ ฉัน ไม่ สนใจ ความเห็น นี้ อย่าง ...</td>\n",
       "      <td>ผู้ปกครองของฉันไม่สนใจความเห็นนี้อย่างละเอียดอ...</td>\n",
       "      <td>ผู้ปกครอง ของ ฉัน ไม่ สนใจ ความเร็ว นี้ อย่าง ...</td>\n",
       "      <td>ผู้ปกครองของฉันไม่สนใจความเร็วนี้อย่างละเอียดอ...</td>\n",
       "    </tr>\n",
       "    <tr>\n",
       "      <th>...</th>\n",
       "      <td>...</td>\n",
       "      <td>...</td>\n",
       "      <td>...</td>\n",
       "      <td>...</td>\n",
       "      <td>...</td>\n",
       "      <td>...</td>\n",
       "    </tr>\n",
       "    <tr>\n",
       "      <th>2497</th>\n",
       "      <td>ใครสนใจไปเรียนได้ ฟรี วันละชั่วโมง สัปดาห์เดีย...</td>\n",
       "      <td>ใคร สนใจ ไป เลียน ได้   ฟรี   วัน ละ ชั่วโมง  ...</td>\n",
       "      <td>ใคร สนใจ ไป เรียน ได้   ฟรี   วัน ละ ชั่วโมง  ...</td>\n",
       "      <td>ใครสนใจไปเลียนได้ฟรีวันละชั่วโมงสัปดาห์เดียวก็จบ</td>\n",
       "      <td>ใคร สนใจ ไป เลียน ได้ ฟรี วัน ละ ชั่วโมง สัปดา...</td>\n",
       "      <td>ใครสนใจไปเลียนได้ฟรีวันละชั่วโมงสัปดาห์เดียวก็จบ</td>\n",
       "    </tr>\n",
       "    <tr>\n",
       "      <th>2498</th>\n",
       "      <td>หรือในกรณีตั้งครรภ์เมื่ออายุเกิน</td>\n",
       "      <td>หรือ ใน กรณี ตั้งครรภ์ เมื่อ อายุ เกิน</td>\n",
       "      <td>หรือ ใน กรณี ตั้งครรภ์ เมื่อ อายุ เกิน</td>\n",
       "      <td>หรือในกรณีตั้งครรภ์เมื่ออายุเกิน</td>\n",
       "      <td>หรือ ใน กรณี ตั้งครรภ์ เมื่อ อายุ เกิน</td>\n",
       "      <td>หรือในกรณีตั้งครรภ์เมื่ออายุเกิน</td>\n",
       "    </tr>\n",
       "    <tr>\n",
       "      <th>2499</th>\n",
       "      <td>ก่อนสเต็ปนั้น</td>\n",
       "      <td>ก่อน จะ เต็จ นั้น</td>\n",
       "      <td>ก่อน สเต็ป นั้น</td>\n",
       "      <td>ก่อนจะเต็จนั้น</td>\n",
       "      <td>ก่อน จะ เต็ม นั้น</td>\n",
       "      <td>ก่อนจะเต็มนั้น</td>\n",
       "    </tr>\n",
       "    <tr>\n",
       "      <th>2500</th>\n",
       "      <td>ถ้าจะแบน มันต้องชัดว่าคำพูดจะนำไปสู่เหตุการณ์พ...</td>\n",
       "      <td>ถ้า จะ แบน มัน ต้อง ชัด ว่า คำพูด จะ นำไปสู่ เ...</td>\n",
       "      <td>ถ้า จะ แบน   มัน ต้อง ชัด ว่า คำพูด จะ นำไปสู่...</td>\n",
       "      <td>ถ้าจะแบนมันต้องชัดว่าคำพูดจะนำไปสู่เหตุการณ์พว...</td>\n",
       "      <td>ถ้า จะ แบน มัน ต้อง ชัด ว่า คำพูด จะ นำไปสู่ เ...</td>\n",
       "      <td>ถ้าจะแบนมันต้องชัดว่าคำพูดจะนำไปสู่เหตุการณ์พว...</td>\n",
       "    </tr>\n",
       "    <tr>\n",
       "      <th>2501</th>\n",
       "      <td>เขาก็เปิดดังเท่ากันน่ะ</td>\n",
       "      <td>เขา ก็ เปิด ดัง เท่า กัน น่ะ</td>\n",
       "      <td>เขา ก็ เปิด ดัง เท่ากัน น่ะ</td>\n",
       "      <td>เขาก็เปิดดังเท่ากันน่ะ</td>\n",
       "      <td>เขา ก็ เปิด ดัง เท่า กัน น่ะ</td>\n",
       "      <td>เขาก็เปิดดังเท่ากันน่ะ</td>\n",
       "    </tr>\n",
       "  </tbody>\n",
       "</table>\n",
       "<p>2502 rows × 6 columns</p>\n",
       "</div>"
      ],
      "text/plain": [
       "                                               sentence  \\\n",
       "0                                   และเขาก็สัมผัสดีบุก   \n",
       "1            คุณสามารถรับทราบเมื่อข้อความนี้ถูกอ่านแล้ว   \n",
       "2     คืนนี้ฉันต้องทำให้ได้ เธอพูดกับตัวเอง ฉันต้องท...   \n",
       "3     การทำเช่นนี้จะทำให้แผ่นถ่ายภาพเกิดแสงฟลูออเรสเ...   \n",
       "4     ผู้ปกครองของฉันไม่สนใจความเห็นนี้อย่างละเอียดอ...   \n",
       "...                                                 ...   \n",
       "2497  ใครสนใจไปเรียนได้ ฟรี วันละชั่วโมง สัปดาห์เดีย...   \n",
       "2498                   หรือในกรณีตั้งครรภ์เมื่ออายุเกิน   \n",
       "2499                                      ก่อนสเต็ปนั้น   \n",
       "2500  ถ้าจะแบน มันต้องชัดว่าคำพูดจะนำไปสู่เหตุการณ์พ...   \n",
       "2501                             เขาก็เปิดดังเท่ากันน่ะ   \n",
       "\n",
       "                                      pred_sentence_tok  \\\n",
       "0                               และ เขา ก็ สัมผัส ดีบุก   \n",
       "1     คุณ สามารถ รับทราบ เมื่อ ป้อความ นี้ ถูก อ่าน ...   \n",
       "2     คืนนี้ ฉัน ต้อง ทำให้ได้   เธอ พูด กับ ตัวเอง ...   \n",
       "3     การ ทำ เช่นนี้ จะ ทำให้ แผ่น ถ่ายภาพ เกิด แสง ...   \n",
       "4     ผู้ปกครอง ของ ฉัน ไม่ สนใจ ความเห็น นี้ อย่าง ...   \n",
       "...                                                 ...   \n",
       "2497  ใคร สนใจ ไป เลียน ได้   ฟรี   วัน ละ ชั่วโมง  ...   \n",
       "2498             หรือ ใน กรณี ตั้งครรภ์ เมื่อ อายุ เกิน   \n",
       "2499                                  ก่อน จะ เต็จ นั้น   \n",
       "2500  ถ้า จะ แบน มัน ต้อง ชัด ว่า คำพูด จะ นำไปสู่ เ...   \n",
       "2501                       เขา ก็ เปิด ดัง เท่า กัน น่ะ   \n",
       "\n",
       "                                           sentence_tok  \\\n",
       "0                               และ เขา ก็ สัมผัส ดีบุก   \n",
       "1     คุณ สามารถ รับทราบ เมื่อ ข้อความ นี้ ถูก อ่าน ...   \n",
       "2     คืนนี้ ฉัน ต้อง ทำ ให้ได้   เธอ พูด กับ ตัวเอง...   \n",
       "3     การ ทำ เช่นนี้ จะ ทำให้ แผ่น ถ่ายภาพ เกิด แสง ...   \n",
       "4     ผู้ปกครอง ของ ฉัน ไม่ สนใจ ความเห็น นี้ อย่าง ...   \n",
       "...                                                 ...   \n",
       "2497  ใคร สนใจ ไป เรียน ได้   ฟรี   วัน ละ ชั่วโมง  ...   \n",
       "2498             หรือ ใน กรณี ตั้งครรภ์ เมื่อ อายุ เกิน   \n",
       "2499                                    ก่อน สเต็ป นั้น   \n",
       "2500  ถ้า จะ แบน   มัน ต้อง ชัด ว่า คำพูด จะ นำไปสู่...   \n",
       "2501                        เขา ก็ เปิด ดัง เท่ากัน น่ะ   \n",
       "\n",
       "                                          pred_sentence  \\\n",
       "0                                   และเขาก็สัมผัสดีบุก   \n",
       "1            คุณสามารถรับทราบเมื่อป้อความนี้ถูกอ่านแล้ว   \n",
       "2     คืนนี้ฉันต้องทำให้ได้เธอพูดกับตัวเองฉันต้องทำใ...   \n",
       "3     การทำเช่นนี้จะทำให้แผ่นถ่ายภาพเกิดแสงปัวอเรสเซนซ์   \n",
       "4     ผู้ปกครองของฉันไม่สนใจความเห็นนี้อย่างละเอียดอ...   \n",
       "...                                                 ...   \n",
       "2497   ใครสนใจไปเลียนได้ฟรีวันละชั่วโมงสัปดาห์เดียวก็จบ   \n",
       "2498                   หรือในกรณีตั้งครรภ์เมื่ออายุเกิน   \n",
       "2499                                     ก่อนจะเต็จนั้น   \n",
       "2500  ถ้าจะแบนมันต้องชัดว่าคำพูดจะนำไปสู่เหตุการณ์พว...   \n",
       "2501                             เขาก็เปิดดังเท่ากันน่ะ   \n",
       "\n",
       "                            pred_sentence_tok_corrected  \\\n",
       "0                               และ เขา ก็ สัมผัส ดีบุก   \n",
       "1     คุณ สามารถ รับทราบ เมื่อ ข้อความ นี้ ถูก อ่าน ...   \n",
       "2     วันนี้ ฉัน ต้อง ทำให้ได้ เธอ พูด กับ ตัวเอง ฉั...   \n",
       "3     การ ทำ เช่นนี้ จะ ทำให้ แผ่น ถ่ายภาพ เกิด แสง ...   \n",
       "4     ผู้ปกครอง ของ ฉัน ไม่ สนใจ ความเร็ว นี้ อย่าง ...   \n",
       "...                                                 ...   \n",
       "2497  ใคร สนใจ ไป เลียน ได้ ฟรี วัน ละ ชั่วโมง สัปดา...   \n",
       "2498             หรือ ใน กรณี ตั้งครรภ์ เมื่อ อายุ เกิน   \n",
       "2499                                  ก่อน จะ เต็ม นั้น   \n",
       "2500  ถ้า จะ แบน มัน ต้อง ชัด ว่า คำพูด จะ นำไปสู่ เ...   \n",
       "2501                       เขา ก็ เปิด ดัง เท่า กัน น่ะ   \n",
       "\n",
       "                                pred_sentence_corrected  \n",
       "0                                   และเขาก็สัมผัสดีบุก  \n",
       "1            คุณสามารถรับทราบเมื่อข้อความนี้ถูกอ่านแล้ว  \n",
       "2     วันนี้ฉันต้องทำให้ได้เธอพูดกับตัวเองฉันต้องทำใ...  \n",
       "3     การทำเช่นนี้จะทำให้แผ่นถ่ายภาพเกิดแสงปัวขอเรสเ...  \n",
       "4     ผู้ปกครองของฉันไม่สนใจความเร็วนี้อย่างละเอียดอ...  \n",
       "...                                                 ...  \n",
       "2497   ใครสนใจไปเลียนได้ฟรีวันละชั่วโมงสัปดาห์เดียวก็จบ  \n",
       "2498                   หรือในกรณีตั้งครรภ์เมื่ออายุเกิน  \n",
       "2499                                     ก่อนจะเต็มนั้น  \n",
       "2500  ถ้าจะแบนมันต้องชัดว่าคำพูดจะนำไปสู่เหตุการณ์พว...  \n",
       "2501                             เขาก็เปิดดังเท่ากันน่ะ  \n",
       "\n",
       "[2502 rows x 6 columns]"
      ]
     },
     "execution_count": 48,
     "metadata": {},
     "output_type": "execute_result"
    }
   ],
   "source": [
    "result_df\n"
   ]
  },
  {
   "cell_type": "code",
   "execution_count": null,
   "metadata": {},
   "outputs": [],
   "source": []
  }
 ],
 "metadata": {
  "instance_type": "ml.g4dn.xlarge",
  "interpreter": {
   "hash": "60487081977ed60e3c969cc07d4bdabdc2721b16232f6c0d8a0668a94e890f63"
  },
  "kernelspec": {
   "display_name": "conda_amazonei_pytorch_latest_p36",
   "language": "python",
   "name": "python3"
  },
  "language_info": {
   "codemirror_mode": {
    "name": "ipython",
    "version": 3
   },
   "file_extension": ".py",
   "mimetype": "text/x-python",
   "name": "python",
   "nbconvert_exporter": "python",
   "pygments_lexer": "ipython3",
   "version": "3.7.9"
  }
 },
 "nbformat": 4,
 "nbformat_minor": 4
}
