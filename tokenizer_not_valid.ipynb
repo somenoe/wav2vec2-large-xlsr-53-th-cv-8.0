{
 "cells": [
  {
   "cell_type": "code",
   "execution_count": 1,
   "metadata": {},
   "outputs": [
    {
     "name": "stdout",
     "output_type": "stream",
     "text": [
      "72\n"
     ]
    }
   ],
   "source": [
    "current_l = [\" \", \"[\", \"]\", \"_\", \"|\", \"ก\", \"ข\", \"ฃ\", \"ค\", \"ฆ\", \"ง\", \"จ\", \"ฉ\", \"ช\", \"ซ\", \"ฌ\", \"ญ\", \"ฎ\", \"ฏ\", \"ฐ\", \"ฑ\", \"ฒ\", \"ณ\", \"ด\", \"ต\", \"ถ\", \"ท\", \"ธ\", \"น\", \"บ\", \"ป\", \"ผ\", \"ฝ\", \"พ\", \"ฟ\", \"ภ\",\n",
    "      \"ม\", \"ย\", \"ร\", \"ฤ\", \"ล\", \"ว\", \"ศ\", \"ษ\", \"ส\", \"ห\", \"ฬ\", \"อ\", \"ฮ\", \"ฯ\", \"ะ\", \"ั\", \"า\", \"ำ\", \"ิ\", \"ี\", \"ึ\", \"ื\", \"ุ\", \"ู\", \"เ\", \"แ\", \"โ\", \"ใ\", \"ไ\", \"ๅ\", \"็\", \"่\", \"้\", \"๊\", \"๋\", \"์\", ]\n",
    "print(len(current_l))\n"
   ]
  },
  {
   "cell_type": "code",
   "execution_count": 2,
   "metadata": {},
   "outputs": [
    {
     "name": "stdout",
     "output_type": "stream",
     "text": [
      "70\n"
     ]
    }
   ],
   "source": [
    "target_l = [\" \", \"[\", \"]\", \"ก\", \"ข\", \"ฃ\", \"ค\", \"ฆ\", \"ง\", \"จ\", \"ฉ\", \"ช\", \"ซ\", \"ฌ\", \"ญ\", \"ฎ\", \"ฏ\", \"ฐ\", \"ฑ\", \"ฒ\", \"ณ\", \"ด\", \"ต\", \"ถ\", \"ท\", \"ธ\", \"น\", \"บ\", \"ป\", \"ผ\", \"ฝ\", \"พ\", \"ฟ\", \"ภ\", \"ม\",\n",
    "      \"ย\", \"ร\", \"ฤ\", \"ล\", \"ว\", \"ศ\", \"ษ\", \"ส\", \"ห\", \"ฬ\", \"อ\", \"ฮ\", \"ฯ\", \"ะ\", \"ั\", \"า\", \"ำ\", \"ิ\", \"ี\", \"ึ\", \"ื\", \"ุ\", \"ู\", \"เ\", \"แ\", \"โ\", \"ใ\", \"ไ\", \"ๅ\", \"็\", \"่\", \"้\", \"๊\", \"๋\", \"์\", ]\n",
    "print(len(target_l))\n"
   ]
  },
  {
   "cell_type": "code",
   "execution_count": 3,
   "metadata": {},
   "outputs": [
    {
     "name": "stdout",
     "output_type": "stream",
     "text": [
      "_\n",
      "|\n"
     ]
    }
   ],
   "source": [
    "for i in current_l:\n",
    "    if i not in target_l:\n",
    "        print(i)"
   ]
  },
  {
   "cell_type": "code",
   "execution_count": 5,
   "metadata": {},
   "outputs": [
    {
     "data": {
      "text/plain": [
       "['_', '|']"
      ]
     },
     "execution_count": 5,
     "metadata": {},
     "output_type": "execute_result"
    }
   ],
   "source": [
    "_ =[i for i in current_l if i not in target_l ]\n",
    "_"
   ]
  },
  {
   "cell_type": "markdown",
   "metadata": {},
   "source": [
    "### after I edited\n",
    "```python\n",
    "# Rules mapping obtained from exploring data\n",
    "mapping_char: Dict[str, str] = {\n",
    "```"
   ]
  },
  {
   "cell_type": "code",
   "execution_count": 7,
   "metadata": {},
   "outputs": [
    {
     "name": "stdout",
     "output_type": "stream",
     "text": [
      "70\n"
     ]
    },
    {
     "data": {
      "text/plain": [
       "[]"
      ]
     },
     "execution_count": 7,
     "metadata": {},
     "output_type": "execute_result"
    }
   ],
   "source": [
    "l3 = [\" \", \"[\", \"]\", \"ก\", \"ข\", \"ฃ\", \"ค\", \"ฆ\", \"ง\", \"จ\", \"ฉ\", \"ช\", \"ซ\", \"ฌ\", \"ญ\", \"ฎ\", \"ฏ\", \"ฐ\", \"ฑ\", \"ฒ\", \"ณ\", \"ด\", \"ต\", \"ถ\", \"ท\", \"ธ\", \"น\", \"บ\", \"ป\", \"ผ\", \"ฝ\", \"พ\", \"ฟ\", \"ภ\", \"ม\",\n",
    "      \"ย\", \"ร\", \"ฤ\", \"ล\", \"ว\", \"ศ\", \"ษ\", \"ส\", \"ห\", \"ฬ\", \"อ\", \"ฮ\", \"ฯ\", \"ะ\", \"ั\", \"า\", \"ำ\", \"ิ\", \"ี\", \"ึ\", \"ื\", \"ุ\", \"ู\", \"เ\", \"แ\", \"โ\", \"ใ\", \"ไ\", \"ๅ\", \"็\", \"่\", \"้\", \"๊\", \"๋\", \"์\", ]\n",
    "print(len(target_l))\n",
    "\n",
    "_ = [i for i in l3 if i not in target_l]\n",
    "_\n"
   ]
  }
 ],
 "metadata": {
  "interpreter": {
   "hash": "60487081977ed60e3c969cc07d4bdabdc2721b16232f6c0d8a0668a94e890f63"
  },
  "kernelspec": {
   "display_name": "Python 3.7.9 64-bit (windows store)",
   "language": "python",
   "name": "python3"
  },
  "language_info": {
   "codemirror_mode": {
    "name": "ipython",
    "version": 3
   },
   "file_extension": ".py",
   "mimetype": "text/x-python",
   "name": "python",
   "nbconvert_exporter": "python",
   "pygments_lexer": "ipython3",
   "version": "3.7.9"
  },
  "orig_nbformat": 4
 },
 "nbformat": 4,
 "nbformat_minor": 2
}
