{
 "cells": [
  {
   "cell_type": "markdown",
   "id": "dfe439f8",
   "metadata": {},
   "source": [
    "# Benchmarking with Our Test Split"
   ]
  },
  {
   "cell_type": "code",
   "execution_count": null,
   "id": "eaa3d22c",
   "metadata": {},
   "outputs": [],
   "source": []
  },
  {
   "cell_type": "code",
   "execution_count": 2,
   "id": "a8e55cd0",
   "metadata": {},
   "outputs": [],
   "source": [
    "%%capture\n",
    "!apt-get update\n",
    "!apt-get install --reinstall build-essential --yes"
   ]
  },
  {
   "cell_type": "code",
   "execution_count": 3,
   "id": "32d33b9f",
   "metadata": {},
   "outputs": [],
   "source": [
    "%%capture\n",
    "%pip install torch==1.9.0+cpu torchvision==0.10.0+cpu torchaudio==0.9.0 -f https://download.pytorch.org/whl/torch_stable.html\n",
    "# %pip install torch==1.9.0+cu111 torchvision==0.10.0+cu111 torchaudio==0.9.0 -f https://download.pytorch.org/whl/torch_stable.html\n",
    "%pip install datasets==1.11.0\n",
    "%pip install transformers==4.9.1\n",
    "%pip install jiwer\n",
    "%pip install ipywidgets\n",
    "%pip install pythainlp==2.3.1"
   ]
  },
  {
   "cell_type": "code",
   "execution_count": null,
   "id": "c3b73da2",
   "metadata": {},
   "outputs": [],
   "source": [
    "from functools import partial\n",
    "import pandas as pd\n",
    "import numpy as np\n",
    "from datasets import (\n",
    "    load_dataset, \n",
    "    load_from_disk,\n",
    "    load_metric,)\n",
    "\n",
    "from transformers import (\n",
    "    Wav2Vec2CTCTokenizer, \n",
    "    Wav2Vec2FeatureExtractor,\n",
    "    Wav2Vec2Processor,\n",
    "    Wav2Vec2ForCTC,\n",
    "    TrainingArguments,\n",
    "    Trainer,\n",
    ")\n",
    "import torchaudio\n",
    "import re\n",
    "import json\n",
    "from pythainlp.tokenize import word_tokenize, syllable_tokenize"
   ]
  }
 ],
 "metadata": {
  "kernelspec": {
   "display_name": "conda_amazonei_pytorch_latest_p36",
   "language": "python",
   "name": "conda_amazonei_pytorch_latest_p36"
  },
  "language_info": {
   "codemirror_mode": {
    "name": "ipython",
    "version": 3
   },
   "file_extension": ".py",
   "mimetype": "text/x-python",
   "name": "python",
   "nbconvert_exporter": "python",
   "pygments_lexer": "ipython3",
   "version": "3.6.13"
  }
 },
 "nbformat": 4,
 "nbformat_minor": 5
}
